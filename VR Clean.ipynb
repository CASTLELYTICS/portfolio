{
 "cells": [
  {
   "cell_type": "code",
   "execution_count": 1,
   "metadata": {},
   "outputs": [],
   "source": [
    "import pandas as pd\n",
    "import numpy as np\n",
    "import plotly.express as px\n",
    "from urllib.request import urlopen\n",
    "import json\n",
    "import matplotlib.pyplot as plt\n",
    "import seaborn as sns"
   ]
  },
  {
   "cell_type": "code",
   "execution_count": 2,
   "metadata": {},
   "outputs": [],
   "source": [
    "df = pd.read_csv('vendor_clean.csv')\n",
    "df_90 = pd.read_csv('vendor_clean_90_days.csv')\n",
    "df_2020_six = pd.read_csv('vendor_clean_2020_6.csv')"
   ]
  },
  {
   "cell_type": "code",
   "execution_count": 3,
   "metadata": {},
   "outputs": [
    {
     "data": {
      "text/plain": [
       "array(['AL', 'AZ', 'PA', 'FL', 'VA', 'GA', 'CA', 'UT', 'IL', 'NC', 'MA',\n",
       "       'IN', 'MO', 'AR', 'CO', 'SC', 'AK', 'TN', 'LA', 'CT', 'HI', 'IA',\n",
       "       'ID', 'KS', 'KY', 'MN', 'TX', 'MD', 'MI', 'OH', 'NJ', 'MS', 'NE',\n",
       "       'NH', 'OK', 'NY', 'SD', 'NV', 'WI', 'OR', 'DE', 'WV', 'WA', 'MT',\n",
       "       'RI', 'NM', 'ND', 'DC', 'WY', 'ME'], dtype=object)"
      ]
     },
     "execution_count": 3,
     "metadata": {},
     "output_type": "execute_result"
    }
   ],
   "source": [
    "df['state'].unique()"
   ]
  },
  {
   "cell_type": "code",
   "execution_count": 4,
   "metadata": {},
   "outputs": [],
   "source": [
    "df['state'] = df['state'].str.upper()"
   ]
  },
  {
   "cell_type": "code",
   "execution_count": 5,
   "metadata": {},
   "outputs": [
    {
     "data": {
      "text/plain": [
       "array(['AL', 'AZ', 'PA', 'FL', 'VA', 'GA', 'CA', 'UT', 'IL', 'NC', 'MA',\n",
       "       'IN', 'MO', 'AR', 'CO', 'SC', 'AK', 'TN', 'LA', 'CT', 'HI', 'IA',\n",
       "       'ID', 'KS', 'KY', 'MN', 'TX', 'MD', 'MI', 'OH', 'NJ', 'MS', 'NE',\n",
       "       'NH', 'OK', 'NY', 'SD', 'NV', 'WI', 'OR', 'DE', 'WV', 'WA', 'MT',\n",
       "       'RI', 'NM', 'ND', 'DC', 'WY', 'ME'], dtype=object)"
      ]
     },
     "execution_count": 5,
     "metadata": {},
     "output_type": "execute_result"
    }
   ],
   "source": [
    "df['state'].unique()"
   ]
  },
  {
   "cell_type": "code",
   "execution_count": 6,
   "metadata": {},
   "outputs": [],
   "source": [
    "df['state'] = df['state'].replace(['CA.'],'CA')\n"
   ]
  },
  {
   "cell_type": "code",
   "execution_count": 7,
   "metadata": {},
   "outputs": [],
   "source": [
    "states = df.groupby(['state']).size().reset_index(name= 'state count')"
   ]
  },
  {
   "cell_type": "code",
   "execution_count": 8,
   "metadata": {},
   "outputs": [
    {
     "data": {
      "text/html": [
       "<div>\n",
       "<style scoped>\n",
       "    .dataframe tbody tr th:only-of-type {\n",
       "        vertical-align: middle;\n",
       "    }\n",
       "\n",
       "    .dataframe tbody tr th {\n",
       "        vertical-align: top;\n",
       "    }\n",
       "\n",
       "    .dataframe thead th {\n",
       "        text-align: right;\n",
       "    }\n",
       "</style>\n",
       "<table border=\"1\" class=\"dataframe\">\n",
       "  <thead>\n",
       "    <tr style=\"text-align: right;\">\n",
       "      <th></th>\n",
       "      <th>vendor</th>\n",
       "      <th>city</th>\n",
       "      <th>state</th>\n",
       "      <th>zip</th>\n",
       "      <th>date</th>\n",
       "      <th>Contract Item</th>\n",
       "      <th>status</th>\n",
       "      <th>coverage_zones</th>\n",
       "      <th>application_received</th>\n",
       "      <th>preferred_vendor</th>\n",
       "      <th>portal_status</th>\n",
       "      <th>Claim Count</th>\n",
       "    </tr>\n",
       "  </thead>\n",
       "  <tbody>\n",
       "  </tbody>\n",
       "</table>\n",
       "</div>"
      ],
      "text/plain": [
       "Empty DataFrame\n",
       "Columns: [vendor, city, state, zip, date, Contract Item, status, coverage_zones, application_received, preferred_vendor, portal_status, Claim Count]\n",
       "Index: []"
      ]
     },
     "execution_count": 8,
     "metadata": {},
     "output_type": "execute_result"
    }
   ],
   "source": [
    "df[df['state']=='A']"
   ]
  },
  {
   "cell_type": "code",
   "execution_count": 10,
   "metadata": {},
   "outputs": [
    {
     "data": {
      "text/plain": [
       "Index(['vendor', 'city', 'state', 'zip', 'date', 'Contract Item', 'status',\n",
       "       'coverage_zones', 'application_received', 'preferred_vendor',\n",
       "       'portal_status', 'Claim Count'],\n",
       "      dtype='object')"
      ]
     },
     "execution_count": 10,
     "metadata": {},
     "output_type": "execute_result"
    }
   ],
   "source": [
    "df.columns"
   ]
  },
  {
   "cell_type": "code",
   "execution_count": 11,
   "metadata": {},
   "outputs": [],
   "source": [
    "df = df[['vendor', 'city', 'state', 'zip', 'date', 'Contract Item', 'status',\n",
    "       'coverage_zones', 'application_received', 'preferred_vendor',\n",
    "       'portal_status', 'Claim Count']]"
   ]
  },
  {
   "cell_type": "code",
   "execution_count": 12,
   "metadata": {},
   "outputs": [
    {
     "data": {
      "text/plain": [
       "9853"
      ]
     },
     "execution_count": 12,
     "metadata": {},
     "output_type": "execute_result"
    }
   ],
   "source": [
    "df['Claim Count'].isnull().sum()"
   ]
  },
  {
   "cell_type": "code",
   "execution_count": 13,
   "metadata": {},
   "outputs": [
    {
     "data": {
      "text/plain": [
       "(12204, 13)"
      ]
     },
     "execution_count": 13,
     "metadata": {},
     "output_type": "execute_result"
    }
   ],
   "source": [
    "df_90.shape"
   ]
  },
  {
   "cell_type": "code",
   "execution_count": 14,
   "metadata": {
    "collapsed": true
   },
   "outputs": [
    {
     "data": {
      "text/html": [
       "<div>\n",
       "<style scoped>\n",
       "    .dataframe tbody tr th:only-of-type {\n",
       "        vertical-align: middle;\n",
       "    }\n",
       "\n",
       "    .dataframe tbody tr th {\n",
       "        vertical-align: top;\n",
       "    }\n",
       "\n",
       "    .dataframe thead th {\n",
       "        text-align: right;\n",
       "    }\n",
       "</style>\n",
       "<table border=\"1\" class=\"dataframe\">\n",
       "  <thead>\n",
       "    <tr style=\"text-align: right;\">\n",
       "      <th></th>\n",
       "      <th>vendor</th>\n",
       "      <th>city</th>\n",
       "      <th>state</th>\n",
       "      <th>zip</th>\n",
       "      <th>date</th>\n",
       "      <th>Contract Item</th>\n",
       "      <th>status</th>\n",
       "      <th>coverage_zones</th>\n",
       "      <th>application_received</th>\n",
       "      <th>preferred_vendor</th>\n",
       "      <th>portal_status</th>\n",
       "      <th>Claim Count</th>\n",
       "    </tr>\n",
       "  </thead>\n",
       "  <tbody>\n",
       "    <tr>\n",
       "      <th>0</th>\n",
       "      <td>5783913.0</td>\n",
       "      <td>Huntsville</td>\n",
       "      <td>AL</td>\n",
       "      <td>35810</td>\n",
       "      <td>2016-12-14 04:04:00</td>\n",
       "      <td>Appliances, Garbage Disposal, HVAC</td>\n",
       "      <td>Inactive</td>\n",
       "      <td>35810 \\r\\n\\r\\nGOES TO BIRMINGHAM</td>\n",
       "      <td>No</td>\n",
       "      <td>No</td>\n",
       "      <td>Inactive</td>\n",
       "      <td>NaN</td>\n",
       "    </tr>\n",
       "    <tr>\n",
       "      <th>1</th>\n",
       "      <td>5783914.0</td>\n",
       "      <td>Glendale</td>\n",
       "      <td>AZ</td>\n",
       "      <td>85318</td>\n",
       "      <td>2016-12-14 19:09:00</td>\n",
       "      <td>Electrical, HVAC</td>\n",
       "      <td>Inactive</td>\n",
       "      <td>85318</td>\n",
       "      <td>No</td>\n",
       "      <td>No</td>\n",
       "      <td>Active</td>\n",
       "      <td>NaN</td>\n",
       "    </tr>\n",
       "    <tr>\n",
       "      <th>2</th>\n",
       "      <td>5783915.0</td>\n",
       "      <td>Mt Pleasent</td>\n",
       "      <td>PA</td>\n",
       "      <td>15666</td>\n",
       "      <td>2016-12-14 20:35:00</td>\n",
       "      <td>HVAC, Appliances, Plumbing, Electrical, Garage...</td>\n",
       "      <td>Inactive</td>\n",
       "      <td>15666</td>\n",
       "      <td>No</td>\n",
       "      <td>No</td>\n",
       "      <td>Active</td>\n",
       "      <td>NaN</td>\n",
       "    </tr>\n",
       "    <tr>\n",
       "      <th>3</th>\n",
       "      <td>5783916.0</td>\n",
       "      <td>Melbourne</td>\n",
       "      <td>FL</td>\n",
       "      <td>32935</td>\n",
       "      <td>2016-12-14 21:08:00</td>\n",
       "      <td>Appliances, Garbage Disposal, HVAC</td>\n",
       "      <td>Inactive</td>\n",
       "      <td>32935</td>\n",
       "      <td>No</td>\n",
       "      <td>No</td>\n",
       "      <td>Active</td>\n",
       "      <td>NaN</td>\n",
       "    </tr>\n",
       "    <tr>\n",
       "      <th>4</th>\n",
       "      <td>5783917.0</td>\n",
       "      <td>Virginia Beach</td>\n",
       "      <td>VA</td>\n",
       "      <td>23452</td>\n",
       "      <td>2016-12-14 21:22:00</td>\n",
       "      <td>HVAC, Appliances, Garbage Disposal</td>\n",
       "      <td>Inactive</td>\n",
       "      <td>23452</td>\n",
       "      <td>No</td>\n",
       "      <td>No</td>\n",
       "      <td>Inactive</td>\n",
       "      <td>NaN</td>\n",
       "    </tr>\n",
       "    <tr>\n",
       "      <th>...</th>\n",
       "      <td>...</td>\n",
       "      <td>...</td>\n",
       "      <td>...</td>\n",
       "      <td>...</td>\n",
       "      <td>...</td>\n",
       "      <td>...</td>\n",
       "      <td>...</td>\n",
       "      <td>...</td>\n",
       "      <td>...</td>\n",
       "      <td>...</td>\n",
       "      <td>...</td>\n",
       "      <td>...</td>\n",
       "    </tr>\n",
       "    <tr>\n",
       "      <th>12198</th>\n",
       "      <td>5801560.0</td>\n",
       "      <td>Minneapolis</td>\n",
       "      <td>MN</td>\n",
       "      <td>55447</td>\n",
       "      <td>2021-06-25 10:15:00</td>\n",
       "      <td>Plumbing, HVAC</td>\n",
       "      <td>Active-NoEmail</td>\n",
       "      <td>scf 69\\r\\ncc vendor! \\r\\n</td>\n",
       "      <td>No</td>\n",
       "      <td>No</td>\n",
       "      <td>Inactive</td>\n",
       "      <td>NaN</td>\n",
       "    </tr>\n",
       "    <tr>\n",
       "      <th>12199</th>\n",
       "      <td>5801561.0</td>\n",
       "      <td>Birmingham</td>\n",
       "      <td>AL</td>\n",
       "      <td>35209</td>\n",
       "      <td>2021-06-25 10:29:00</td>\n",
       "      <td>Roofing</td>\n",
       "      <td>New</td>\n",
       "      <td>35209</td>\n",
       "      <td>No</td>\n",
       "      <td>No</td>\n",
       "      <td>Active</td>\n",
       "      <td>NaN</td>\n",
       "    </tr>\n",
       "    <tr>\n",
       "      <th>12200</th>\n",
       "      <td>5801564.0</td>\n",
       "      <td>Modesto</td>\n",
       "      <td>CA</td>\n",
       "      <td>95356-9265</td>\n",
       "      <td>2021-06-25 12:16:00</td>\n",
       "      <td>HVAC</td>\n",
       "      <td>New</td>\n",
       "      <td>95356-9265</td>\n",
       "      <td>No</td>\n",
       "      <td>No</td>\n",
       "      <td>Active</td>\n",
       "      <td>NaN</td>\n",
       "    </tr>\n",
       "    <tr>\n",
       "      <th>12201</th>\n",
       "      <td>5801565.0</td>\n",
       "      <td>Saint Cloud</td>\n",
       "      <td>FL</td>\n",
       "      <td>34772</td>\n",
       "      <td>2021-06-25 12:48:00</td>\n",
       "      <td>Plumbing</td>\n",
       "      <td>New</td>\n",
       "      <td>34772</td>\n",
       "      <td>No</td>\n",
       "      <td>No</td>\n",
       "      <td>Active</td>\n",
       "      <td>NaN</td>\n",
       "    </tr>\n",
       "    <tr>\n",
       "      <th>12202</th>\n",
       "      <td>5801566.0</td>\n",
       "      <td>Brownsville</td>\n",
       "      <td>TX</td>\n",
       "      <td>78521</td>\n",
       "      <td>2021-06-25 12:51:00</td>\n",
       "      <td>Appliances, HVAC</td>\n",
       "      <td>New</td>\n",
       "      <td>1325 Roosevelt St, Brownsville, TX 78521, Unit...</td>\n",
       "      <td>No</td>\n",
       "      <td>No</td>\n",
       "      <td>Active</td>\n",
       "      <td>NaN</td>\n",
       "    </tr>\n",
       "  </tbody>\n",
       "</table>\n",
       "<p>12203 rows × 12 columns</p>\n",
       "</div>"
      ],
      "text/plain": [
       "          vendor            city state         zip                 date  \\\n",
       "0      5783913.0      Huntsville    AL       35810  2016-12-14 04:04:00   \n",
       "1      5783914.0        Glendale    AZ       85318  2016-12-14 19:09:00   \n",
       "2      5783915.0     Mt Pleasent    PA       15666  2016-12-14 20:35:00   \n",
       "3      5783916.0       Melbourne    FL       32935  2016-12-14 21:08:00   \n",
       "4      5783917.0  Virginia Beach    VA       23452  2016-12-14 21:22:00   \n",
       "...          ...             ...   ...         ...                  ...   \n",
       "12198  5801560.0     Minneapolis    MN       55447  2021-06-25 10:15:00   \n",
       "12199  5801561.0      Birmingham    AL       35209  2021-06-25 10:29:00   \n",
       "12200  5801564.0         Modesto    CA  95356-9265  2021-06-25 12:16:00   \n",
       "12201  5801565.0     Saint Cloud    FL       34772  2021-06-25 12:48:00   \n",
       "12202  5801566.0     Brownsville    TX       78521  2021-06-25 12:51:00   \n",
       "\n",
       "                                           Contract Item          status  \\\n",
       "0                     Appliances, Garbage Disposal, HVAC        Inactive   \n",
       "1                                       Electrical, HVAC        Inactive   \n",
       "2      HVAC, Appliances, Plumbing, Electrical, Garage...        Inactive   \n",
       "3                     Appliances, Garbage Disposal, HVAC        Inactive   \n",
       "4                     HVAC, Appliances, Garbage Disposal        Inactive   \n",
       "...                                                  ...             ...   \n",
       "12198                                     Plumbing, HVAC  Active-NoEmail   \n",
       "12199                                            Roofing             New   \n",
       "12200                                               HVAC             New   \n",
       "12201                                           Plumbing             New   \n",
       "12202                                   Appliances, HVAC             New   \n",
       "\n",
       "                                          coverage_zones application_received  \\\n",
       "0                       35810 \\r\\n\\r\\nGOES TO BIRMINGHAM                   No   \n",
       "1                                                  85318                   No   \n",
       "2                                                  15666                   No   \n",
       "3                                                  32935                   No   \n",
       "4                                                  23452                   No   \n",
       "...                                                  ...                  ...   \n",
       "12198                          scf 69\\r\\ncc vendor! \\r\\n                   No   \n",
       "12199                                              35209                   No   \n",
       "12200                                         95356-9265                   No   \n",
       "12201                                              34772                   No   \n",
       "12202  1325 Roosevelt St, Brownsville, TX 78521, Unit...                   No   \n",
       "\n",
       "      preferred_vendor portal_status  Claim Count  \n",
       "0                   No      Inactive          NaN  \n",
       "1                   No        Active          NaN  \n",
       "2                   No        Active          NaN  \n",
       "3                   No        Active          NaN  \n",
       "4                   No      Inactive          NaN  \n",
       "...                ...           ...          ...  \n",
       "12198               No      Inactive          NaN  \n",
       "12199               No        Active          NaN  \n",
       "12200               No        Active          NaN  \n",
       "12201               No        Active          NaN  \n",
       "12202               No        Active          NaN  \n",
       "\n",
       "[12203 rows x 12 columns]"
      ]
     },
     "execution_count": 14,
     "metadata": {},
     "output_type": "execute_result"
    }
   ],
   "source": [
    "df"
   ]
  },
  {
   "cell_type": "code",
   "execution_count": 15,
   "metadata": {},
   "outputs": [],
   "source": [
    "df_six = df[df['Claim Count']> 0]"
   ]
  },
  {
   "cell_type": "code",
   "execution_count": 16,
   "metadata": {
    "collapsed": true
   },
   "outputs": [
    {
     "data": {
      "text/plain": [
       "array(['Electrical, HVAC', 'HVAC', 'Plumbing, HVAC, Garbage Disposal',\n",
       "       'Plumbing, HVAC', 'Garage Door Openers, HVAC',\n",
       "       'HVAC, Appliances, Garbage Disposal, Plumbing, Pool & Spa',\n",
       "       'HVAC, Appliances', 'HVAC, Plumbing',\n",
       "       'Appliances, Garbage Disposal, HVAC',\n",
       "       'HVAC, Appliances, Garbage Disposal', 'HVAC, Plumbing, Electrical',\n",
       "       'HVAC, Appliances, Plumbing, Electrical, Garbage Disposal, Roofing',\n",
       "       'Plumbing, Appliances, Garbage Disposal, HVAC, Electrical, Septic System & Pumping',\n",
       "       'Pool & Spa, HVAC',\n",
       "       'HVAC, Appliances, Central Vacuum Systems, Garbage Disposal, Plumbing',\n",
       "       'HVAC, Plumbing, Electrical, Appliances, Garbage Disposal',\n",
       "       'HVAC, Appliances, Garbage Disposal, Septic System & Pumping',\n",
       "       'HVAC, Roofing, Appliances', 'Plumbing, Garbage Disposal, HVAC',\n",
       "       'Appliances, Plumbing, Electrical, Garage Door Openers, Garbage Disposal, HVAC',\n",
       "       'HVAC, Plumbing, Well Pumps, Drywall',\n",
       "       'Appliances, HVAC, Garbage Disposal, Plumbing, Electrical, Garage Door Openers',\n",
       "       'Appliances, Plumbing, Garbage Disposal, HVAC, Roofing',\n",
       "       'Plumbing, Electrical, Drywall, Appliances, Garbage Disposal, HVAC, Roofing, Septic System & Pumping',\n",
       "       'HVAC, Appliances, Electrical, Garage Door Openers, Pool & Spa, Garbage Disposal',\n",
       "       'Plumbing, Appliances, Garbage Disposal, HVAC',\n",
       "       'Plumbing, Electrical, Appliances, Garbage Disposal, HVAC, Drywall',\n",
       "       'Electrical, Central Vacuum Systems, HVAC',\n",
       "       'HVAC, Appliances, Garbage Disposal, Electrical',\n",
       "       'Appliances, Garbage Disposal, HVAC, Plumbing',\n",
       "       'HVAC, Appliances, Garage Door Openers, Garbage Disposal',\n",
       "       'HVAC, Appliances, Well Pumps, Garbage Disposal, Plumbing, Electrical, Sprinkler System',\n",
       "       'Plumbing, Garbage Disposal, HVAC, Electrical',\n",
       "       'HVAC, Appliances, Garbage Disposal, Plumbing',\n",
       "       'Plumbing, Garbage Disposal, HVAC, Appliances',\n",
       "       'HVAC, Electrical, Appliances, Plumbing',\n",
       "       'Electrical, HVAC, Garbage Disposal',\n",
       "       'Appliances, HVAC, Garbage Disposal, Plumbing',\n",
       "       'Plumbing, Well Pumps, Septic System & Pumping, Garbage Disposal, HVAC',\n",
       "       'Appliances, Plumbing, Electrical, Garage Door Openers, Drywall, Garbage Disposal, HVAC, Well Pumps',\n",
       "       'Pool & Spa, HVAC, Plumbing',\n",
       "       'HVAC, Appliances, Plumbing, Electrical, Garage Door Openers, Drywall, Garbage Disposal, Roofing',\n",
       "       'Appliances, Electrical, Garbage Disposal, HVAC',\n",
       "       'HVAC, Electrical, Plumbing',\n",
       "       'HVAC, Plumbing, Garage Door Openers, Roofing, Drywall, Garbage Disposal, Electrical',\n",
       "       'Appliances, HVAC, Plumbing, Well Pumps',\n",
       "       'Appliances, Central Vacuum Systems, HVAC',\n",
       "       'Plumbing, Garage Door Openers, HVAC, Garbage Disposal',\n",
       "       'Appliances, Electrical, HVAC, Garbage Disposal, Plumbing',\n",
       "       'HVAC, Plumbing, Septic System & Pumping, Well Pumps, Electrical',\n",
       "       'HVAC, Plumbing, Garbage Disposal',\n",
       "       'Appliances, Plumbing, Electrical, Garage Door Openers, Pool & Spa, Drywall, HVAC',\n",
       "       'Appliances, Garbage Disposal, HVAC, Sprinkler System',\n",
       "       'Appliances, Garbage Disposal, HVAC, Electrical',\n",
       "       'Plumbing, Garbage Disposal, HVAC, Roofing, Garage Door Openers',\n",
       "       'HVAC, Appliances, Plumbing, Electrical, Garage Door Openers, Drywall, Garbage Disposal',\n",
       "       'Plumbing, Septic System & Pumping, Garbage Disposal, HVAC',\n",
       "       'Roofing, HVAC', 'Well Pumps, Sprinkler System, HVAC',\n",
       "       'HVAC, Appliances, Plumbing, Electrical, Garage Door Openers, Garbage Disposal',\n",
       "       'Plumbing, Garbage Disposal',\n",
       "       'Plumbing, HVAC, Garbage Disposal, Roofing',\n",
       "       'Appliances, Plumbing, Garbage Disposal, HVAC',\n",
       "       'Plumbing, Garbage Disposal, Septic System & Pumping, Well Pumps, HVAC',\n",
       "       'HVAC, Plumbing, Roofing, Drywall, Garbage Disposal, Appliances',\n",
       "       'Electrical, Garage Door Openers, Pool & Spa, HVAC',\n",
       "       'Appliances, HVAC', 'Electrical, HVAC, Plumbing',\n",
       "       'Plumbing, Garbage Disposal, HVAC, Pool & Spa, Appliances',\n",
       "       'Appliances, Plumbing, Roofing, Drywall, Garbage Disposal, HVAC, Electrical, Garage Door Openers',\n",
       "       'Electrical',\n",
       "       'Plumbing, Garbage Disposal, HVAC, Septic System & Pumping',\n",
       "       'HVAC, Appliances, Plumbing, Garbage Disposal, Electrical',\n",
       "       'HVAC, Electrical', 'Septic System & Pumping, HVAC',\n",
       "       'Plumbing, Garbage Disposal, Well Pumps, Septic System & Pumping, HVAC',\n",
       "       'Garage Door Openers',\n",
       "       'HVAC, Appliances, Garbage Disposal, Drywall, Pool & Spa, Garage Door Openers, Plumbing, Electrical',\n",
       "       'HVAC, Appliances, Plumbing, Electrical, Garage Door Openers, Pool & Spa, Roofing, Central Vacuum Systems, Well Pumps, Septic System & Pumping, Sprinkler System, Drywall, Garbage Disposal',\n",
       "       'Appliances, Drywall, HVAC, Garbage Disposal, Roofing',\n",
       "       'Plumbing, Electrical, Garbage Disposal, HVAC, Drywall',\n",
       "       'Plumbing, Drywall, Garbage Disposal, HVAC',\n",
       "       'Appliances, Plumbing, Electrical, Garage Door Openers, HVAC',\n",
       "       'HVAC, Appliances, Plumbing, Garage Door Openers',\n",
       "       'HVAC, Plumbing, Septic System & Pumping',\n",
       "       'Plumbing, Electrical, Garbage Disposal, HVAC, Garage Door Openers',\n",
       "       'HVAC, Plumbing, Electrical, Garage Door Openers, Pool & Spa, Roofing, Drywall, Garbage Disposal, Appliances',\n",
       "       'Appliances, Electrical, Garage Door Openers, Garbage Disposal, HVAC',\n",
       "       'Plumbing, HVAC, Appliances, Garbage Disposal',\n",
       "       'HVAC, Plumbing, Garage Door Openers, Garbage Disposal',\n",
       "       'Appliances, HVAC, Garbage Disposal',\n",
       "       'Plumbing, Garage Door Openers, HVAC',\n",
       "       'Appliances, Plumbing, Garage Door Openers, Garbage Disposal, HVAC',\n",
       "       'Plumbing, Septic System & Pumping, HVAC',\n",
       "       'HVAC, Plumbing, Electrical, Garbage Disposal',\n",
       "       'Plumbing, Sprinkler System, Garbage Disposal',\n",
       "       'Plumbing, Well Pumps, HVAC',\n",
       "       'HVAC, Appliances, Electrical, Pool & Spa, Well Pumps, Garbage Disposal, Septic System & Pumping',\n",
       "       'HVAC, Plumbing, Electrical, Appliances, Well Pumps',\n",
       "       'HVAC, Appliances, Plumbing, Electrical, Well Pumps, Drywall, Garbage Disposal',\n",
       "       'Plumbing, HVAC, Roofing',\n",
       "       'HVAC, Appliances, Electrical, Garbage Disposal',\n",
       "       'Appliances, Central Vacuum Systems, Garbage Disposal, HVAC',\n",
       "       'HVAC, Appliances, Plumbing, Electrical, Central Vacuum Systems, Well Pumps, Septic System & Pumping, Garbage Disposal',\n",
       "       'HVAC, Appliances, Garbage Disposal, Plumbing, Drywall, Well Pumps, Septic System & Pumping, Garage Door Openers, Electrical',\n",
       "       'HVAC, Garbage Disposal, Appliances',\n",
       "       'Appliances, Plumbing, Pool & Spa, Well Pumps, Septic System & Pumping, Garbage Disposal, HVAC, Electrical',\n",
       "       'HVAC, Appliances, Plumbing, Electrical, Garbage Disposal',\n",
       "       'Garage Door Openers, Roofing, HVAC', 'HVAC, Appliances, Plumbing',\n",
       "       'Appliances, Garage Door Openers, Garbage Disposal, HVAC, Electrical, Plumbing',\n",
       "       'HVAC, Appliances, Plumbing, Garbage Disposal',\n",
       "       'Appliances, Plumbing, Electrical, Roofing, Drywall, Garbage Disposal, HVAC, Pool & Spa, Central Vacuum Systems, Sprinkler System',\n",
       "       'Appliances, Pool & Spa, HVAC, Plumbing',\n",
       "       'Plumbing, Well Pumps, HVAC, Garbage Disposal',\n",
       "       'Electrical, Garage Door Openers, HVAC',\n",
       "       'HVAC, Appliances, Plumbing, Electrical, Garage Door Openers, Drywall, Garbage Disposal, Roofing, Pool & Spa',\n",
       "       'HVAC, Garbage Disposal, Electrical',\n",
       "       'Plumbing, HVAC, Garbage Disposal, Drywall',\n",
       "       'HVAC, Electrical, Appliances, Pool & Spa, Garage Door Openers',\n",
       "       'Garage Door Openers, Drywall, HVAC, Garbage Disposal',\n",
       "       'HVAC, Appliances, Plumbing, Electrical, Central Vacuum Systems, Drywall, Garbage Disposal',\n",
       "       'Appliances, HVAC, Plumbing',\n",
       "       'HVAC, Appliances, Plumbing, Electrical, Garage Door Openers, Pool & Spa, Septic System & Pumping, Drywall, Garbage Disposal',\n",
       "       'HVAC, Appliances, Pool & Spa, Garbage Disposal, Plumbing, Garage Door Openers',\n",
       "       'Appliances, Plumbing, Electrical, Garbage Disposal, HVAC',\n",
       "       'HVAC, Plumbing, Electrical, Appliances',\n",
       "       'HVAC, Plumbing, Electrical, Garbage Disposal, Appliances, Pool & Spa, Septic System & Pumping, Garage Door Openers',\n",
       "       'Electrical, HVAC, Garage Door Openers',\n",
       "       'HVAC, Plumbing, Electrical, Garage Door Openers, Roofing, Drywall, Garbage Disposal',\n",
       "       'HVAC, Appliances, Plumbing, Electrical',\n",
       "       'Plumbing, Electrical, Drywall, Garbage Disposal, HVAC',\n",
       "       'Plumbing, Drywall, Garbage Disposal, HVAC, Appliances',\n",
       "       'Plumbing, HVAC, Garbage Disposal, Appliances',\n",
       "       'Electrical, HVAC, Garage Door Openers, Appliances, Garbage Disposal, Plumbing',\n",
       "       'HVAC, Appliances, Electrical, Central Vacuum Systems, Garbage Disposal',\n",
       "       'HVAC, Plumbing, Electrical, Garbage Disposal, Appliances',\n",
       "       'Appliances, HVAC, Electrical',\n",
       "       'Garage Door Openers, HVAC, Appliances, Garbage Disposal, Plumbing',\n",
       "       'Appliances, Garage Door Openers, Pool & Spa, HVAC',\n",
       "       'HVAC, Appliances, Plumbing, Electrical, Roofing, Garbage Disposal, Garage Door Openers',\n",
       "       'Plumbing, Well Pumps, Garbage Disposal, HVAC',\n",
       "       'Appliances, HVAC, Plumbing, Electrical, Garbage Disposal',\n",
       "       'HVAC, Plumbing, Electrical, Garage Door Openers, Garbage Disposal',\n",
       "       'Well Pumps, HVAC', 'Plumbing, Appliances, HVAC, Garbage Disposal',\n",
       "       'Plumbing, HVAC, Septic System & Pumping, Appliances',\n",
       "       'HVAC, Appliances, Plumbing, Electrical, Pool & Spa, Well Pumps, Garbage Disposal',\n",
       "       'Sprinkler System, HVAC',\n",
       "       'Plumbing, Pool & Spa, Central Vacuum Systems, Sprinkler System, Garbage Disposal, HVAC',\n",
       "       'Appliances, Electrical, Garage Door Openers, Central Vacuum Systems, Garbage Disposal, HVAC',\n",
       "       'Garage Door Openers, Drywall, HVAC',\n",
       "       'Appliances, Plumbing, Well Pumps, Septic System & Pumping, HVAC, Garbage Disposal',\n",
       "       'HVAC, Pool & Spa, Plumbing',\n",
       "       'Garage Door Openers, Drywall, Garbage Disposal, HVAC',\n",
       "       'HVAC, Pool & Spa, Appliances',\n",
       "       'Appliances, Plumbing, Electrical, Garage Door Openers, Pool & Spa, Roofing, Central Vacuum Systems, Well Pumps, Septic System & Pumping, Sprinkler System, Garbage Disposal, HVAC',\n",
       "       'Plumbing',\n",
       "       'Plumbing, Garbage Disposal, HVAC, Electrical, Appliances',\n",
       "       'HVAC, Appliances, Plumbing, Well Pumps, Garbage Disposal, Electrical',\n",
       "       'Appliances', 'HVAC, Drywall, Appliances',\n",
       "       'HVAC, Appliances, Plumbing, Electrical, Garage Door Openers, Pool & Spa, Central Vacuum Systems, Well Pumps, Garbage Disposal',\n",
       "       'HVAC, Roofing', 'Appliances, Plumbing',\n",
       "       'HVAC, Electrical, Appliances', 'HVAC, Garage Door Openers',\n",
       "       'HVAC, Plumbing, Garage Door Openers, Electrical',\n",
       "       'HVAC, Roofing, Plumbing', 'Plumbing, Pool & Spa, HVAC',\n",
       "       'Plumbing, HVAC, Septic System & Pumping, Electrical, Pool & Spa, Garbage Disposal, Appliances',\n",
       "       'Appliances, Plumbing, Garage Door Openers, Electrical, Roofing, Sprinkler System, Drywall, Garbage Disposal, HVAC',\n",
       "       'Electrical, Pool & Spa, HVAC', 'Electrical, HVAC, Appliances',\n",
       "       'Plumbing, Garage Door Openers, Garbage Disposal, HVAC',\n",
       "       'HVAC, Pool & Spa', 'HVAC, Pool & Spa, Electrical',\n",
       "       'HVAC, Plumbing, Garage Door Openers, Garbage Disposal, Appliances',\n",
       "       'HVAC, Appliances, Plumbing, Garbage Disposal, Electrical, Sprinkler System',\n",
       "       'Plumbing, Electrical, Garbage Disposal, HVAC',\n",
       "       'Central Vacuum Systems, HVAC', 'Roofing',\n",
       "       'Plumbing, Electrical, Garbage Disposal, HVAC, Appliances',\n",
       "       'Plumbing, Roofing, Garbage Disposal, HVAC',\n",
       "       'HVAC, Appliances, Garage Door Openers, Plumbing, Electrical, Roofing, Drywall, Garbage Disposal',\n",
       "       'Appliances, Electrical, HVAC',\n",
       "       'Plumbing, Electrical, Garbage Disposal, HVAC, Appliances, Garage Door Openers',\n",
       "       'Appliances, Garage Door Openers, Garbage Disposal, HVAC',\n",
       "       'Pool & Spa, HVAC, Sprinkler System',\n",
       "       'Appliances, HVAC, Plumbing, Garbage Disposal',\n",
       "       'HVAC, Plumbing, Appliances', 'Garbage Disposal, Appliances, HVAC',\n",
       "       'Garbage Disposal, Plumbing, HVAC', 'Roofing, HVAC, Electrical',\n",
       "       'HVAC, Septic System & Pumping, Plumbing, Garbage Disposal, Sprinkler System',\n",
       "       'HVAC, Garbage Disposal, Plumbing, Appliances, Electrical, Drywall, Septic System & Pumping, Well Pumps',\n",
       "       'HVAC, Appliances, Garage Door Openers, Roofing, Electrical, Plumbing',\n",
       "       'Appliances, HVAC, Electrical, Garage Door Openers, Plumbing, Garbage Disposal',\n",
       "       'Plumbing, Garage Door Openers, Roofing, Well Pumps, Septic System & Pumping, Drywall, Garbage Disposal',\n",
       "       'Appliances, Electrical, HVAC, Plumbing',\n",
       "       'HVAC, Appliances, Pool & Spa',\n",
       "       'Electrical, HVAC, Pool & Spa, Plumbing, Appliances, Garbage Disposal',\n",
       "       'Appliances, HVAC, Plumbing, Septic System & Pumping',\n",
       "       'HVAC, Appliances, Garbage Disposal, Central Vacuum Systems, Garage Door Openers, Electrical, Plumbing',\n",
       "       'Septic System & Pumping',\n",
       "       'HVAC, Electrical, Plumbing, Garbage Disposal',\n",
       "       'HVAC, Appliances, Garbage Disposal, Electrical, Plumbing',\n",
       "       'Plumbing, Garbage Disposal, Drywall, HVAC',\n",
       "       'HVAC, Appliances, Electrical, Garage Door Openers, Garbage Disposal, Plumbing',\n",
       "       'Appliances, HVAC, Garage Door Openers, Pool & Spa, Plumbing, Sprinkler System, Drywall, Garbage Disposal',\n",
       "       'Pool & Spa',\n",
       "       'HVAC, Septic System & Pumping, Plumbing, Garbage Disposal',\n",
       "       'Plumbing, HVAC, Septic System & Pumping',\n",
       "       'Septic System & Pumping, Plumbing, Garbage Disposal, HVAC, Appliances',\n",
       "       'HVAC, Appliances, Garbage Disposal, Plumbing, Electrical',\n",
       "       'Electrical, Appliances, Garage Door Openers, HVAC',\n",
       "       'Appliances, HVAC, Garage Door Openers, Garbage Disposal',\n",
       "       'Electrical, HVAC, Appliances, Garage Door Openers, Garbage Disposal, Plumbing',\n",
       "       'HVAC, Plumbing, Septic System & Pumping, Garbage Disposal',\n",
       "       'Appliances, Electrical, Plumbing, HVAC',\n",
       "       'Plumbing, Garbage Disposal, Appliances, HVAC',\n",
       "       'HVAC, Pool & Spa, Appliances, Roofing',\n",
       "       'Well Pumps, Septic System & Pumping, HVAC',\n",
       "       'HVAC, Sprinkler System, Plumbing, Electrical, Pool & Spa',\n",
       "       'Appliances, Plumbing, Roofing, Well Pumps, Septic System & Pumping, Drywall, Garbage Disposal, HVAC',\n",
       "       'Well Pumps, HVAC, Plumbing',\n",
       "       'HVAC, Plumbing, Electrical, Well Pumps, Septic System & Pumping',\n",
       "       'HVAC, Plumbing, Electrical, Garbage Disposal, Septic System & Pumping, Well Pumps',\n",
       "       'Plumbing, Septic System & Pumping, Well Pumps, Garbage Disposal',\n",
       "       'HVAC, Appliances, Electrical', 'Garbage Disposal, HVAC, Plumbing',\n",
       "       'Garage Door Openers, HVAC, Electrical',\n",
       "       'Appliances, HVAC, Garbage Disposal, Plumbing, Garage Door Openers, Sprinkler System',\n",
       "       'HVAC, Garbage Disposal', 'HVAC, Plumbing, Electrical, Well Pumps',\n",
       "       'HVAC, Plumbing, Garbage Disposal, Septic System & Pumping',\n",
       "       'HVAC, Drywall, Garbage Disposal',\n",
       "       'HVAC, Plumbing, Appliances, Garbage Disposal',\n",
       "       'HVAC, Sprinkler System', 'HVAC, Electrical, Well Pumps',\n",
       "       'HVAC, Pool & Spa, Plumbing, Garbage Disposal, Appliances',\n",
       "       'HVAC, Plumbing, Garbage Disposal, Electrical, Drywall, Appliances',\n",
       "       'HVAC, Appliances, Plumbing, Roofing, Garbage Disposal, Electrical',\n",
       "       'HVAC, Roofing, Drywall, Garbage Disposal',\n",
       "       'HVAC, Plumbing, Garbage Disposal, Appliances',\n",
       "       'HVAC, Septic System & Pumping',\n",
       "       'HVAC, Electrical, Plumbing, Appliances',\n",
       "       'Appliances, Plumbing, HVAC, Garbage Disposal, Electrical',\n",
       "       'HVAC, Electrical, Drywall, Garbage Disposal',\n",
       "       'Appliances, HVAC, Plumbing, Electrical, Well Pumps, Septic System & Pumping, Garbage Disposal',\n",
       "       'Drywall, Plumbing, Roofing, HVAC',\n",
       "       'Garbage Disposal, Roofing, Appliances, Septic System & Pumping, Plumbing, Drywall, Electrical, HVAC, Garage Door Openers, Pool & Spa, Well Pumps, Central Vacuum Systems, Sprinkler System',\n",
       "       'Septic System & Pumping, Plumbing, HVAC',\n",
       "       'Plumbing, Septic System & Pumping, HVAC, Garbage Disposal',\n",
       "       'HVAC, Appliances, Plumbing, Electrical, Garage Door Openers, Pool & Spa, Central Vacuum Systems, Well Pumps, Septic System & Pumping, Sprinkler System, Garbage Disposal',\n",
       "       'HVAC, Drywall, Roofing, Plumbing, Appliances, Garbage Disposal',\n",
       "       'HVAC, Roofing, Plumbing, Drywall, Well Pumps, Garbage Disposal, Electrical, Septic System & Pumping, Central Vacuum Systems, Pool & Spa, Garage Door Openers, Sprinkler System',\n",
       "       'Appliances, Plumbing, Electrical, Garage Door Openers, Roofing, Central Vacuum Systems, Well Pumps, Septic System & Pumping, Sprinkler System, Drywall, Garbage Disposal, HVAC',\n",
       "       'Well Pumps, HVAC, Plumbing, Garbage Disposal',\n",
       "       'Plumbing, HVAC, Appliances',\n",
       "       'Appliances, Plumbing, HVAC, Garbage Disposal',\n",
       "       'Appliances, HVAC, Plumbing, Drywall, Electrical, Garbage Disposal',\n",
       "       'HVAC, Appliances, Plumbing, Electrical, Garage Door Openers, Septic System & Pumping, Roofing, Garbage Disposal',\n",
       "       'HVAC, Appliances, Central Vacuum Systems',\n",
       "       'HVAC, Electrical, Appliances, Pool & Spa, Plumbing, Central Vacuum Systems, Drywall, Garbage Disposal',\n",
       "       'HVAC, Plumbing, Appliances, Septic System & Pumping',\n",
       "       'Garage Door Openers, Septic System & Pumping, HVAC',\n",
       "       'HVAC, Roofing, Drywall, Garage Door Openers, Plumbing, Electrical, Pool & Spa, Well Pumps, Garbage Disposal',\n",
       "       'HVAC, Garbage Disposal, Appliances, Plumbing, Electrical',\n",
       "       'HVAC, Garbage Disposal, Septic System & Pumping, Plumbing, Appliances, Electrical',\n",
       "       'HVAC, Appliances, Plumbing, Electrical, Garage Door Openers',\n",
       "       'Septic System & Pumping, HVAC, Plumbing, Garbage Disposal',\n",
       "       'Garbage Disposal, HVAC',\n",
       "       'Roofing, Appliances, Plumbing, Electrical, Drywall, Garbage Disposal, HVAC',\n",
       "       'HVAC, Electrical, Garbage Disposal, Plumbing',\n",
       "       'Appliances, HVAC, Garage Door Openers, Plumbing, Electrical',\n",
       "       'HVAC, Electrical, Garbage Disposal',\n",
       "       'HVAC, Appliances, Plumbing, Garage Door Openers, Garbage Disposal',\n",
       "       'Electrical, Appliances, HVAC',\n",
       "       'Appliances, HVAC, Plumbing, Electrical, Drywall, Garage Door Openers, Garbage Disposal, Roofing',\n",
       "       'Appliances, Electrical, Garage Door Openers',\n",
       "       'HVAC, Appliances, Plumbing, Electrical, Garbage Disposal, Drywall',\n",
       "       'Appliances, Plumbing, Electrical, Garage Door Openers, Roofing, Well Pumps, Drywall, HVAC, Garbage Disposal',\n",
       "       'HVAC, Garbage Disposal, Appliances, Electrical, Plumbing',\n",
       "       'HVAC, Appliances, Garage Door Openers, Central Vacuum Systems, Pool & Spa, Garbage Disposal, Plumbing',\n",
       "       'HVAC, Appliances, Plumbing, Electrical, Garage Door Openers, Drywall, Garbage Disposal, Septic System & Pumping',\n",
       "       'HVAC, Appliances, Plumbing, Electrical, Garage Door Openers, Pool & Spa, Central Vacuum Systems, Well Pumps, Sprinkler System, Drywall, Garbage Disposal',\n",
       "       'HVAC, Septic System & Pumping, Plumbing',\n",
       "       'Septic System & Pumping, Plumbing, HVAC, Garbage Disposal',\n",
       "       'Plumbing, Septic System & Pumping, Well Pumps, HVAC',\n",
       "       'HVAC, Plumbing, Electrical, Drywall', 'Drywall, Plumbing, HVAC',\n",
       "       'HVAC, Appliances, Plumbing, Electrical, Drywall, Garbage Disposal',\n",
       "       'Plumbing, Appliances, HVAC',\n",
       "       'Plumbing, HVAC, Electrical, Well Pumps, Septic System & Pumping, Drywall, Garbage Disposal',\n",
       "       'HVAC, Plumbing, Septic System & Pumping, Garbage Disposal, Well Pumps',\n",
       "       'Plumbing, Electrical, Garbage Disposal',\n",
       "       'Pool & Spa, Electrical, Appliances, HVAC',\n",
       "       'HVAC, Electrical, Roofing, Drywall, Plumbing, Appliances',\n",
       "       'HVAC, Garbage Disposal, Plumbing',\n",
       "       'HVAC, Appliances, Plumbing, Drywall, Garbage Disposal',\n",
       "       'Plumbing, Septic System & Pumping, Garbage Disposal',\n",
       "       'Plumbing, Electrical, Roofing, Garbage Disposal, HVAC',\n",
       "       'Appliances, Plumbing, Garbage Disposal, Electrical, HVAC',\n",
       "       'Electrical, HVAC, Plumbing, Garage Door Openers',\n",
       "       'HVAC, Plumbing, Electrical, Garbage Disposal, Garage Door Openers, Pool & Spa, Appliances, Sprinkler System, Well Pumps',\n",
       "       'Electrical, Pool & Spa',\n",
       "       'Appliances, Plumbing, Roofing, Drywall, HVAC',\n",
       "       'Plumbing, Garbage Disposal, Septic System & Pumping, HVAC',\n",
       "       'HVAC, Roofing, Appliances, Plumbing',\n",
       "       'Appliances, Garbage Disposal, HVAC, Garage Door Openers, Electrical',\n",
       "       'HVAC, Appliances, Plumbing, Electrical, Garage Door Openers, Roofing, Central Vacuum Systems, Well Pumps, Septic System & Pumping, Sprinkler System, Drywall, Garbage Disposal',\n",
       "       'HVAC, Plumbing, Garage Door Openers',\n",
       "       'HVAC, Plumbing, Electrical, Garage Door Openers, Roofing',\n",
       "       'Plumbing, Garbage Disposal, Appliances, HVAC, Roofing',\n",
       "       'HVAC, Plumbing, Electrical, Well Pumps, Sprinkler System, Garbage Disposal',\n",
       "       'Plumbing, HVAC, Garbage Disposal, Sprinkler System',\n",
       "       'HVAC, Plumbing, Pool & Spa, Well Pumps, Septic System & Pumping, Sprinkler System, Garbage Disposal',\n",
       "       'HVAC, Plumbing, Electrical, Drywall, Garbage Disposal',\n",
       "       'Plumbing, Electrical, HVAC', 'Plumbing, HVAC, Electrical',\n",
       "       'Appliances, Plumbing, Electrical, Garbage Disposal',\n",
       "       'Plumbing, Electrical', 'Garbage Disposal',\n",
       "       'Plumbing, Pool & Spa, Sprinkler System, Appliances, HVAC',\n",
       "       'Plumbing, HVAC, Well Pumps, Garbage Disposal',\n",
       "       'Electrical, Garage Door Openers, HVAC, Garbage Disposal, Well Pumps, Pool & Spa, Plumbing',\n",
       "       'Garage Door Openers, HVAC, Pool & Spa',\n",
       "       'Plumbing, Roofing, Garbage Disposal',\n",
       "       'Electrical, HVAC, Appliances, Garbage Disposal, Plumbing',\n",
       "       'HVAC, Appliances, Plumbing, Electrical, Garbage Disposal, Garage Door Openers',\n",
       "       'Garbage Disposal, HVAC, Appliances', 'Drywall, HVAC, Roofing',\n",
       "       'Appliances, Garbage Disposal',\n",
       "       'Plumbing, Sprinkler System, Garbage Disposal, HVAC',\n",
       "       'Septic System & Pumping, HVAC, Plumbing',\n",
       "       'Sprinkler System, HVAC, Appliances',\n",
       "       'HVAC, Appliances, Garage Door Openers, Sprinkler System',\n",
       "       'Appliances, Garage Door Openers, Garbage Disposal',\n",
       "       'Garbage Disposal, Plumbing, Roofing, HVAC',\n",
       "       'Plumbing, Garbage Disposal, Septic System & Pumping',\n",
       "       'HVAC, Plumbing, Electrical, Septic System & Pumping',\n",
       "       'HVAC, Appliances, Plumbing, Electrical, Septic System & Pumping, Garbage Disposal',\n",
       "       'Appliances, Electrical, Garage Door Openers, HVAC',\n",
       "       'Central Vacuum Systems',\n",
       "       'HVAC, Appliances, Plumbing, Electrical, Roofing, Septic System & Pumping, Garbage Disposal, Drywall',\n",
       "       'HVAC, Appliances, Plumbing, Electrical, Drywall',\n",
       "       'HVAC, Plumbing, Sprinkler System, Garbage Disposal',\n",
       "       'Plumbing, Electrical, Garbage Disposal, Garage Door Openers, Roofing, Drywall, HVAC',\n",
       "       'HVAC, Appliances, Electrical, Plumbing, Pool & Spa, Roofing, Well Pumps, Sprinkler System, Septic System & Pumping, Drywall, Garbage Disposal',\n",
       "       'HVAC, Appliances, Plumbing, Garage Door Openers, Electrical, Pool & Spa, Roofing, Septic System & Pumping, Sprinkler System, Drywall, Garbage Disposal',\n",
       "       'Garbage Disposal, Plumbing', 'Sprinkler System',\n",
       "       'Garage Door Openers, Electrical', 'Plumbing, Pool & Spa'],\n",
       "      dtype=object)"
      ]
     },
     "execution_count": 16,
     "metadata": {},
     "output_type": "execute_result"
    }
   ],
   "source": [
    "df_six['Contract Item'].unique()"
   ]
  },
  {
   "cell_type": "code",
   "execution_count": 17,
   "metadata": {},
   "outputs": [],
   "source": [
    "df_six_app = df_six[df_six['Contract Item']== 'Appliances']"
   ]
  },
  {
   "cell_type": "code",
   "execution_count": 18,
   "metadata": {},
   "outputs": [
    {
     "data": {
      "text/plain": [
       "(34, 12)"
      ]
     },
     "execution_count": 18,
     "metadata": {},
     "output_type": "execute_result"
    }
   ],
   "source": [
    "df_six_app.shape"
   ]
  },
  {
   "cell_type": "code",
   "execution_count": 19,
   "metadata": {},
   "outputs": [
    {
     "data": {
      "text/plain": [
       "(2350, 12)"
      ]
     },
     "execution_count": 19,
     "metadata": {},
     "output_type": "execute_result"
    }
   ],
   "source": [
    "df_six.shape"
   ]
  },
  {
   "cell_type": "markdown",
   "metadata": {},
   "source": [
    "# ALL ACTIVE TECHS WITH CC 2021"
   ]
  },
  {
   "cell_type": "code",
   "execution_count": 30,
   "metadata": {},
   "outputs": [],
   "source": [
    "df6_active_total = df_six[(df_six['status']=='Active')|(df_six['status']=='Active-NoEmail')]"
   ]
  },
  {
   "cell_type": "code",
   "execution_count": 31,
   "metadata": {},
   "outputs": [],
   "source": [
    "states6_active_total = df6_active_total.groupby(['state']).size().reset_index(name= 'state count')"
   ]
  },
  {
   "cell_type": "code",
   "execution_count": 32,
   "metadata": {
    "collapsed": true
   },
   "outputs": [
    {
     "data": {
      "application/vnd.plotly.v1+json": {
       "config": {
        "plotlyServerURL": "https://plot.ly"
       },
       "data": [
        {
         "coloraxis": "coloraxis",
         "geo": "geo",
         "hovertemplate": "<b>%{hovertext}</b><br><br>state=%{location}<br>state count=%{z}<extra></extra>",
         "hovertext": [
          "3",
          "35",
          "20",
          "59",
          "93",
          "13",
          "8",
          "1",
          "9",
          "130",
          "70",
          "4",
          "3",
          "6",
          "53",
          "29",
          "15",
          "23",
          "31",
          "7",
          "36",
          "4",
          "32",
          "9",
          "33",
          "22",
          "3",
          "58",
          "11",
          "4",
          "25",
          "9",
          "12",
          "5",
          "38",
          "25",
          "16",
          "34",
          "4",
          "40",
          "1",
          "33",
          "239",
          "14",
          "46",
          "5",
          "18",
          "6"
         ],
         "locationmode": "USA-states",
         "locations": [
          "AK",
          "AL",
          "AR",
          "AZ",
          "CA",
          "CO",
          "CT",
          "DC",
          "DE",
          "FL",
          "GA",
          "HI",
          "IA",
          "ID",
          "IL",
          "IN",
          "KS",
          "KY",
          "LA",
          "MA",
          "MD",
          "ME",
          "MI",
          "MN",
          "MO",
          "MS",
          "MT",
          "NC",
          "NE",
          "NH",
          "NJ",
          "NM",
          "NV",
          "NY",
          "OH",
          "OK",
          "OR",
          "PA",
          "RI",
          "SC",
          "SD",
          "TN",
          "TX",
          "UT",
          "VA",
          "WA",
          "WI",
          "WV"
         ],
         "name": "",
         "type": "choropleth",
         "z": [
          3,
          35,
          20,
          59,
          93,
          13,
          8,
          1,
          9,
          130,
          70,
          4,
          3,
          6,
          53,
          29,
          15,
          23,
          31,
          7,
          36,
          4,
          32,
          9,
          33,
          22,
          3,
          58,
          11,
          4,
          25,
          9,
          12,
          5,
          38,
          25,
          16,
          34,
          4,
          40,
          1,
          33,
          239,
          14,
          46,
          5,
          18,
          6
         ]
        }
       ],
       "layout": {
        "coloraxis": {
         "colorbar": {
          "title": {
           "text": "state count"
          }
         },
         "colorscale": [
          [
           0,
           "#000004"
          ],
          [
           0.1111111111111111,
           "#1b0c41"
          ],
          [
           0.2222222222222222,
           "#4a0c6b"
          ],
          [
           0.3333333333333333,
           "#781c6d"
          ],
          [
           0.4444444444444444,
           "#a52c60"
          ],
          [
           0.5555555555555556,
           "#cf4446"
          ],
          [
           0.6666666666666666,
           "#ed6925"
          ],
          [
           0.7777777777777778,
           "#fb9b06"
          ],
          [
           0.8888888888888888,
           "#f7d13d"
          ],
          [
           1,
           "#fcffa4"
          ]
         ]
        },
        "geo": {
         "center": {},
         "domain": {
          "x": [
           0,
           1
          ],
          "y": [
           0,
           1
          ]
         },
         "scope": "usa"
        },
        "legend": {
         "tracegroupgap": 0
        },
        "margin": {
         "t": 60
        },
        "template": {
         "data": {
          "bar": [
           {
            "error_x": {
             "color": "#2a3f5f"
            },
            "error_y": {
             "color": "#2a3f5f"
            },
            "marker": {
             "line": {
              "color": "#E5ECF6",
              "width": 0.5
             },
             "pattern": {
              "fillmode": "overlay",
              "size": 10,
              "solidity": 0.2
             }
            },
            "type": "bar"
           }
          ],
          "barpolar": [
           {
            "marker": {
             "line": {
              "color": "#E5ECF6",
              "width": 0.5
             },
             "pattern": {
              "fillmode": "overlay",
              "size": 10,
              "solidity": 0.2
             }
            },
            "type": "barpolar"
           }
          ],
          "carpet": [
           {
            "aaxis": {
             "endlinecolor": "#2a3f5f",
             "gridcolor": "white",
             "linecolor": "white",
             "minorgridcolor": "white",
             "startlinecolor": "#2a3f5f"
            },
            "baxis": {
             "endlinecolor": "#2a3f5f",
             "gridcolor": "white",
             "linecolor": "white",
             "minorgridcolor": "white",
             "startlinecolor": "#2a3f5f"
            },
            "type": "carpet"
           }
          ],
          "choropleth": [
           {
            "colorbar": {
             "outlinewidth": 0,
             "ticks": ""
            },
            "type": "choropleth"
           }
          ],
          "contour": [
           {
            "colorbar": {
             "outlinewidth": 0,
             "ticks": ""
            },
            "colorscale": [
             [
              0,
              "#0d0887"
             ],
             [
              0.1111111111111111,
              "#46039f"
             ],
             [
              0.2222222222222222,
              "#7201a8"
             ],
             [
              0.3333333333333333,
              "#9c179e"
             ],
             [
              0.4444444444444444,
              "#bd3786"
             ],
             [
              0.5555555555555556,
              "#d8576b"
             ],
             [
              0.6666666666666666,
              "#ed7953"
             ],
             [
              0.7777777777777778,
              "#fb9f3a"
             ],
             [
              0.8888888888888888,
              "#fdca26"
             ],
             [
              1,
              "#f0f921"
             ]
            ],
            "type": "contour"
           }
          ],
          "contourcarpet": [
           {
            "colorbar": {
             "outlinewidth": 0,
             "ticks": ""
            },
            "type": "contourcarpet"
           }
          ],
          "heatmap": [
           {
            "colorbar": {
             "outlinewidth": 0,
             "ticks": ""
            },
            "colorscale": [
             [
              0,
              "#0d0887"
             ],
             [
              0.1111111111111111,
              "#46039f"
             ],
             [
              0.2222222222222222,
              "#7201a8"
             ],
             [
              0.3333333333333333,
              "#9c179e"
             ],
             [
              0.4444444444444444,
              "#bd3786"
             ],
             [
              0.5555555555555556,
              "#d8576b"
             ],
             [
              0.6666666666666666,
              "#ed7953"
             ],
             [
              0.7777777777777778,
              "#fb9f3a"
             ],
             [
              0.8888888888888888,
              "#fdca26"
             ],
             [
              1,
              "#f0f921"
             ]
            ],
            "type": "heatmap"
           }
          ],
          "heatmapgl": [
           {
            "colorbar": {
             "outlinewidth": 0,
             "ticks": ""
            },
            "colorscale": [
             [
              0,
              "#0d0887"
             ],
             [
              0.1111111111111111,
              "#46039f"
             ],
             [
              0.2222222222222222,
              "#7201a8"
             ],
             [
              0.3333333333333333,
              "#9c179e"
             ],
             [
              0.4444444444444444,
              "#bd3786"
             ],
             [
              0.5555555555555556,
              "#d8576b"
             ],
             [
              0.6666666666666666,
              "#ed7953"
             ],
             [
              0.7777777777777778,
              "#fb9f3a"
             ],
             [
              0.8888888888888888,
              "#fdca26"
             ],
             [
              1,
              "#f0f921"
             ]
            ],
            "type": "heatmapgl"
           }
          ],
          "histogram": [
           {
            "marker": {
             "pattern": {
              "fillmode": "overlay",
              "size": 10,
              "solidity": 0.2
             }
            },
            "type": "histogram"
           }
          ],
          "histogram2d": [
           {
            "colorbar": {
             "outlinewidth": 0,
             "ticks": ""
            },
            "colorscale": [
             [
              0,
              "#0d0887"
             ],
             [
              0.1111111111111111,
              "#46039f"
             ],
             [
              0.2222222222222222,
              "#7201a8"
             ],
             [
              0.3333333333333333,
              "#9c179e"
             ],
             [
              0.4444444444444444,
              "#bd3786"
             ],
             [
              0.5555555555555556,
              "#d8576b"
             ],
             [
              0.6666666666666666,
              "#ed7953"
             ],
             [
              0.7777777777777778,
              "#fb9f3a"
             ],
             [
              0.8888888888888888,
              "#fdca26"
             ],
             [
              1,
              "#f0f921"
             ]
            ],
            "type": "histogram2d"
           }
          ],
          "histogram2dcontour": [
           {
            "colorbar": {
             "outlinewidth": 0,
             "ticks": ""
            },
            "colorscale": [
             [
              0,
              "#0d0887"
             ],
             [
              0.1111111111111111,
              "#46039f"
             ],
             [
              0.2222222222222222,
              "#7201a8"
             ],
             [
              0.3333333333333333,
              "#9c179e"
             ],
             [
              0.4444444444444444,
              "#bd3786"
             ],
             [
              0.5555555555555556,
              "#d8576b"
             ],
             [
              0.6666666666666666,
              "#ed7953"
             ],
             [
              0.7777777777777778,
              "#fb9f3a"
             ],
             [
              0.8888888888888888,
              "#fdca26"
             ],
             [
              1,
              "#f0f921"
             ]
            ],
            "type": "histogram2dcontour"
           }
          ],
          "mesh3d": [
           {
            "colorbar": {
             "outlinewidth": 0,
             "ticks": ""
            },
            "type": "mesh3d"
           }
          ],
          "parcoords": [
           {
            "line": {
             "colorbar": {
              "outlinewidth": 0,
              "ticks": ""
             }
            },
            "type": "parcoords"
           }
          ],
          "pie": [
           {
            "automargin": true,
            "type": "pie"
           }
          ],
          "scatter": [
           {
            "marker": {
             "colorbar": {
              "outlinewidth": 0,
              "ticks": ""
             }
            },
            "type": "scatter"
           }
          ],
          "scatter3d": [
           {
            "line": {
             "colorbar": {
              "outlinewidth": 0,
              "ticks": ""
             }
            },
            "marker": {
             "colorbar": {
              "outlinewidth": 0,
              "ticks": ""
             }
            },
            "type": "scatter3d"
           }
          ],
          "scattercarpet": [
           {
            "marker": {
             "colorbar": {
              "outlinewidth": 0,
              "ticks": ""
             }
            },
            "type": "scattercarpet"
           }
          ],
          "scattergeo": [
           {
            "marker": {
             "colorbar": {
              "outlinewidth": 0,
              "ticks": ""
             }
            },
            "type": "scattergeo"
           }
          ],
          "scattergl": [
           {
            "marker": {
             "colorbar": {
              "outlinewidth": 0,
              "ticks": ""
             }
            },
            "type": "scattergl"
           }
          ],
          "scattermapbox": [
           {
            "marker": {
             "colorbar": {
              "outlinewidth": 0,
              "ticks": ""
             }
            },
            "type": "scattermapbox"
           }
          ],
          "scatterpolar": [
           {
            "marker": {
             "colorbar": {
              "outlinewidth": 0,
              "ticks": ""
             }
            },
            "type": "scatterpolar"
           }
          ],
          "scatterpolargl": [
           {
            "marker": {
             "colorbar": {
              "outlinewidth": 0,
              "ticks": ""
             }
            },
            "type": "scatterpolargl"
           }
          ],
          "scatterternary": [
           {
            "marker": {
             "colorbar": {
              "outlinewidth": 0,
              "ticks": ""
             }
            },
            "type": "scatterternary"
           }
          ],
          "surface": [
           {
            "colorbar": {
             "outlinewidth": 0,
             "ticks": ""
            },
            "colorscale": [
             [
              0,
              "#0d0887"
             ],
             [
              0.1111111111111111,
              "#46039f"
             ],
             [
              0.2222222222222222,
              "#7201a8"
             ],
             [
              0.3333333333333333,
              "#9c179e"
             ],
             [
              0.4444444444444444,
              "#bd3786"
             ],
             [
              0.5555555555555556,
              "#d8576b"
             ],
             [
              0.6666666666666666,
              "#ed7953"
             ],
             [
              0.7777777777777778,
              "#fb9f3a"
             ],
             [
              0.8888888888888888,
              "#fdca26"
             ],
             [
              1,
              "#f0f921"
             ]
            ],
            "type": "surface"
           }
          ],
          "table": [
           {
            "cells": {
             "fill": {
              "color": "#EBF0F8"
             },
             "line": {
              "color": "white"
             }
            },
            "header": {
             "fill": {
              "color": "#C8D4E3"
             },
             "line": {
              "color": "white"
             }
            },
            "type": "table"
           }
          ]
         },
         "layout": {
          "annotationdefaults": {
           "arrowcolor": "#2a3f5f",
           "arrowhead": 0,
           "arrowwidth": 1
          },
          "autotypenumbers": "strict",
          "coloraxis": {
           "colorbar": {
            "outlinewidth": 0,
            "ticks": ""
           }
          },
          "colorscale": {
           "diverging": [
            [
             0,
             "#8e0152"
            ],
            [
             0.1,
             "#c51b7d"
            ],
            [
             0.2,
             "#de77ae"
            ],
            [
             0.3,
             "#f1b6da"
            ],
            [
             0.4,
             "#fde0ef"
            ],
            [
             0.5,
             "#f7f7f7"
            ],
            [
             0.6,
             "#e6f5d0"
            ],
            [
             0.7,
             "#b8e186"
            ],
            [
             0.8,
             "#7fbc41"
            ],
            [
             0.9,
             "#4d9221"
            ],
            [
             1,
             "#276419"
            ]
           ],
           "sequential": [
            [
             0,
             "#0d0887"
            ],
            [
             0.1111111111111111,
             "#46039f"
            ],
            [
             0.2222222222222222,
             "#7201a8"
            ],
            [
             0.3333333333333333,
             "#9c179e"
            ],
            [
             0.4444444444444444,
             "#bd3786"
            ],
            [
             0.5555555555555556,
             "#d8576b"
            ],
            [
             0.6666666666666666,
             "#ed7953"
            ],
            [
             0.7777777777777778,
             "#fb9f3a"
            ],
            [
             0.8888888888888888,
             "#fdca26"
            ],
            [
             1,
             "#f0f921"
            ]
           ],
           "sequentialminus": [
            [
             0,
             "#0d0887"
            ],
            [
             0.1111111111111111,
             "#46039f"
            ],
            [
             0.2222222222222222,
             "#7201a8"
            ],
            [
             0.3333333333333333,
             "#9c179e"
            ],
            [
             0.4444444444444444,
             "#bd3786"
            ],
            [
             0.5555555555555556,
             "#d8576b"
            ],
            [
             0.6666666666666666,
             "#ed7953"
            ],
            [
             0.7777777777777778,
             "#fb9f3a"
            ],
            [
             0.8888888888888888,
             "#fdca26"
            ],
            [
             1,
             "#f0f921"
            ]
           ]
          },
          "colorway": [
           "#636efa",
           "#EF553B",
           "#00cc96",
           "#ab63fa",
           "#FFA15A",
           "#19d3f3",
           "#FF6692",
           "#B6E880",
           "#FF97FF",
           "#FECB52"
          ],
          "font": {
           "color": "#2a3f5f"
          },
          "geo": {
           "bgcolor": "white",
           "lakecolor": "white",
           "landcolor": "#E5ECF6",
           "showlakes": true,
           "showland": true,
           "subunitcolor": "white"
          },
          "hoverlabel": {
           "align": "left"
          },
          "hovermode": "closest",
          "mapbox": {
           "style": "light"
          },
          "paper_bgcolor": "white",
          "plot_bgcolor": "#E5ECF6",
          "polar": {
           "angularaxis": {
            "gridcolor": "white",
            "linecolor": "white",
            "ticks": ""
           },
           "bgcolor": "#E5ECF6",
           "radialaxis": {
            "gridcolor": "white",
            "linecolor": "white",
            "ticks": ""
           }
          },
          "scene": {
           "xaxis": {
            "backgroundcolor": "#E5ECF6",
            "gridcolor": "white",
            "gridwidth": 2,
            "linecolor": "white",
            "showbackground": true,
            "ticks": "",
            "zerolinecolor": "white"
           },
           "yaxis": {
            "backgroundcolor": "#E5ECF6",
            "gridcolor": "white",
            "gridwidth": 2,
            "linecolor": "white",
            "showbackground": true,
            "ticks": "",
            "zerolinecolor": "white"
           },
           "zaxis": {
            "backgroundcolor": "#E5ECF6",
            "gridcolor": "white",
            "gridwidth": 2,
            "linecolor": "white",
            "showbackground": true,
            "ticks": "",
            "zerolinecolor": "white"
           }
          },
          "shapedefaults": {
           "line": {
            "color": "#2a3f5f"
           }
          },
          "ternary": {
           "aaxis": {
            "gridcolor": "white",
            "linecolor": "white",
            "ticks": ""
           },
           "baxis": {
            "gridcolor": "white",
            "linecolor": "white",
            "ticks": ""
           },
           "bgcolor": "#E5ECF6",
           "caxis": {
            "gridcolor": "white",
            "linecolor": "white",
            "ticks": ""
           }
          },
          "title": {
           "x": 0.05
          },
          "xaxis": {
           "automargin": true,
           "gridcolor": "white",
           "linecolor": "white",
           "ticks": "",
           "title": {
            "standoff": 15
           },
           "zerolinecolor": "white",
           "zerolinewidth": 2
          },
          "yaxis": {
           "automargin": true,
           "gridcolor": "white",
           "linecolor": "white",
           "ticks": "",
           "title": {
            "standoff": 15
           },
           "zerolinecolor": "white",
           "zerolinewidth": 2
          }
         }
        },
        "title": {
         "text": "Techs by State"
        }
       }
      },
      "text/html": [
       "<div>                            <div id=\"fcf2da09-729a-49c7-b2f6-7c8ea6d669d3\" class=\"plotly-graph-div\" style=\"height:525px; width:100%;\"></div>            <script type=\"text/javascript\">                require([\"plotly\"], function(Plotly) {                    window.PLOTLYENV=window.PLOTLYENV || {};                                    if (document.getElementById(\"fcf2da09-729a-49c7-b2f6-7c8ea6d669d3\")) {                    Plotly.newPlot(                        \"fcf2da09-729a-49c7-b2f6-7c8ea6d669d3\",                        [{\"coloraxis\":\"coloraxis\",\"geo\":\"geo\",\"hovertemplate\":\"<b>%{hovertext}</b><br><br>state=%{location}<br>state count=%{z}<extra></extra>\",\"hovertext\":[\"3\",\"35\",\"20\",\"59\",\"93\",\"13\",\"8\",\"1\",\"9\",\"130\",\"70\",\"4\",\"3\",\"6\",\"53\",\"29\",\"15\",\"23\",\"31\",\"7\",\"36\",\"4\",\"32\",\"9\",\"33\",\"22\",\"3\",\"58\",\"11\",\"4\",\"25\",\"9\",\"12\",\"5\",\"38\",\"25\",\"16\",\"34\",\"4\",\"40\",\"1\",\"33\",\"239\",\"14\",\"46\",\"5\",\"18\",\"6\"],\"locationmode\":\"USA-states\",\"locations\":[\"AK\",\"AL\",\"AR\",\"AZ\",\"CA\",\"CO\",\"CT\",\"DC\",\"DE\",\"FL\",\"GA\",\"HI\",\"IA\",\"ID\",\"IL\",\"IN\",\"KS\",\"KY\",\"LA\",\"MA\",\"MD\",\"ME\",\"MI\",\"MN\",\"MO\",\"MS\",\"MT\",\"NC\",\"NE\",\"NH\",\"NJ\",\"NM\",\"NV\",\"NY\",\"OH\",\"OK\",\"OR\",\"PA\",\"RI\",\"SC\",\"SD\",\"TN\",\"TX\",\"UT\",\"VA\",\"WA\",\"WI\",\"WV\"],\"name\":\"\",\"type\":\"choropleth\",\"z\":[3,35,20,59,93,13,8,1,9,130,70,4,3,6,53,29,15,23,31,7,36,4,32,9,33,22,3,58,11,4,25,9,12,5,38,25,16,34,4,40,1,33,239,14,46,5,18,6]}],                        {\"coloraxis\":{\"colorbar\":{\"title\":{\"text\":\"state count\"}},\"colorscale\":[[0.0,\"#000004\"],[0.1111111111111111,\"#1b0c41\"],[0.2222222222222222,\"#4a0c6b\"],[0.3333333333333333,\"#781c6d\"],[0.4444444444444444,\"#a52c60\"],[0.5555555555555556,\"#cf4446\"],[0.6666666666666666,\"#ed6925\"],[0.7777777777777778,\"#fb9b06\"],[0.8888888888888888,\"#f7d13d\"],[1.0,\"#fcffa4\"]]},\"geo\":{\"center\":{},\"domain\":{\"x\":[0.0,1.0],\"y\":[0.0,1.0]},\"scope\":\"usa\"},\"legend\":{\"tracegroupgap\":0},\"margin\":{\"t\":60},\"template\":{\"data\":{\"bar\":[{\"error_x\":{\"color\":\"#2a3f5f\"},\"error_y\":{\"color\":\"#2a3f5f\"},\"marker\":{\"line\":{\"color\":\"#E5ECF6\",\"width\":0.5},\"pattern\":{\"fillmode\":\"overlay\",\"size\":10,\"solidity\":0.2}},\"type\":\"bar\"}],\"barpolar\":[{\"marker\":{\"line\":{\"color\":\"#E5ECF6\",\"width\":0.5},\"pattern\":{\"fillmode\":\"overlay\",\"size\":10,\"solidity\":0.2}},\"type\":\"barpolar\"}],\"carpet\":[{\"aaxis\":{\"endlinecolor\":\"#2a3f5f\",\"gridcolor\":\"white\",\"linecolor\":\"white\",\"minorgridcolor\":\"white\",\"startlinecolor\":\"#2a3f5f\"},\"baxis\":{\"endlinecolor\":\"#2a3f5f\",\"gridcolor\":\"white\",\"linecolor\":\"white\",\"minorgridcolor\":\"white\",\"startlinecolor\":\"#2a3f5f\"},\"type\":\"carpet\"}],\"choropleth\":[{\"colorbar\":{\"outlinewidth\":0,\"ticks\":\"\"},\"type\":\"choropleth\"}],\"contour\":[{\"colorbar\":{\"outlinewidth\":0,\"ticks\":\"\"},\"colorscale\":[[0.0,\"#0d0887\"],[0.1111111111111111,\"#46039f\"],[0.2222222222222222,\"#7201a8\"],[0.3333333333333333,\"#9c179e\"],[0.4444444444444444,\"#bd3786\"],[0.5555555555555556,\"#d8576b\"],[0.6666666666666666,\"#ed7953\"],[0.7777777777777778,\"#fb9f3a\"],[0.8888888888888888,\"#fdca26\"],[1.0,\"#f0f921\"]],\"type\":\"contour\"}],\"contourcarpet\":[{\"colorbar\":{\"outlinewidth\":0,\"ticks\":\"\"},\"type\":\"contourcarpet\"}],\"heatmap\":[{\"colorbar\":{\"outlinewidth\":0,\"ticks\":\"\"},\"colorscale\":[[0.0,\"#0d0887\"],[0.1111111111111111,\"#46039f\"],[0.2222222222222222,\"#7201a8\"],[0.3333333333333333,\"#9c179e\"],[0.4444444444444444,\"#bd3786\"],[0.5555555555555556,\"#d8576b\"],[0.6666666666666666,\"#ed7953\"],[0.7777777777777778,\"#fb9f3a\"],[0.8888888888888888,\"#fdca26\"],[1.0,\"#f0f921\"]],\"type\":\"heatmap\"}],\"heatmapgl\":[{\"colorbar\":{\"outlinewidth\":0,\"ticks\":\"\"},\"colorscale\":[[0.0,\"#0d0887\"],[0.1111111111111111,\"#46039f\"],[0.2222222222222222,\"#7201a8\"],[0.3333333333333333,\"#9c179e\"],[0.4444444444444444,\"#bd3786\"],[0.5555555555555556,\"#d8576b\"],[0.6666666666666666,\"#ed7953\"],[0.7777777777777778,\"#fb9f3a\"],[0.8888888888888888,\"#fdca26\"],[1.0,\"#f0f921\"]],\"type\":\"heatmapgl\"}],\"histogram\":[{\"marker\":{\"pattern\":{\"fillmode\":\"overlay\",\"size\":10,\"solidity\":0.2}},\"type\":\"histogram\"}],\"histogram2d\":[{\"colorbar\":{\"outlinewidth\":0,\"ticks\":\"\"},\"colorscale\":[[0.0,\"#0d0887\"],[0.1111111111111111,\"#46039f\"],[0.2222222222222222,\"#7201a8\"],[0.3333333333333333,\"#9c179e\"],[0.4444444444444444,\"#bd3786\"],[0.5555555555555556,\"#d8576b\"],[0.6666666666666666,\"#ed7953\"],[0.7777777777777778,\"#fb9f3a\"],[0.8888888888888888,\"#fdca26\"],[1.0,\"#f0f921\"]],\"type\":\"histogram2d\"}],\"histogram2dcontour\":[{\"colorbar\":{\"outlinewidth\":0,\"ticks\":\"\"},\"colorscale\":[[0.0,\"#0d0887\"],[0.1111111111111111,\"#46039f\"],[0.2222222222222222,\"#7201a8\"],[0.3333333333333333,\"#9c179e\"],[0.4444444444444444,\"#bd3786\"],[0.5555555555555556,\"#d8576b\"],[0.6666666666666666,\"#ed7953\"],[0.7777777777777778,\"#fb9f3a\"],[0.8888888888888888,\"#fdca26\"],[1.0,\"#f0f921\"]],\"type\":\"histogram2dcontour\"}],\"mesh3d\":[{\"colorbar\":{\"outlinewidth\":0,\"ticks\":\"\"},\"type\":\"mesh3d\"}],\"parcoords\":[{\"line\":{\"colorbar\":{\"outlinewidth\":0,\"ticks\":\"\"}},\"type\":\"parcoords\"}],\"pie\":[{\"automargin\":true,\"type\":\"pie\"}],\"scatter\":[{\"marker\":{\"colorbar\":{\"outlinewidth\":0,\"ticks\":\"\"}},\"type\":\"scatter\"}],\"scatter3d\":[{\"line\":{\"colorbar\":{\"outlinewidth\":0,\"ticks\":\"\"}},\"marker\":{\"colorbar\":{\"outlinewidth\":0,\"ticks\":\"\"}},\"type\":\"scatter3d\"}],\"scattercarpet\":[{\"marker\":{\"colorbar\":{\"outlinewidth\":0,\"ticks\":\"\"}},\"type\":\"scattercarpet\"}],\"scattergeo\":[{\"marker\":{\"colorbar\":{\"outlinewidth\":0,\"ticks\":\"\"}},\"type\":\"scattergeo\"}],\"scattergl\":[{\"marker\":{\"colorbar\":{\"outlinewidth\":0,\"ticks\":\"\"}},\"type\":\"scattergl\"}],\"scattermapbox\":[{\"marker\":{\"colorbar\":{\"outlinewidth\":0,\"ticks\":\"\"}},\"type\":\"scattermapbox\"}],\"scatterpolar\":[{\"marker\":{\"colorbar\":{\"outlinewidth\":0,\"ticks\":\"\"}},\"type\":\"scatterpolar\"}],\"scatterpolargl\":[{\"marker\":{\"colorbar\":{\"outlinewidth\":0,\"ticks\":\"\"}},\"type\":\"scatterpolargl\"}],\"scatterternary\":[{\"marker\":{\"colorbar\":{\"outlinewidth\":0,\"ticks\":\"\"}},\"type\":\"scatterternary\"}],\"surface\":[{\"colorbar\":{\"outlinewidth\":0,\"ticks\":\"\"},\"colorscale\":[[0.0,\"#0d0887\"],[0.1111111111111111,\"#46039f\"],[0.2222222222222222,\"#7201a8\"],[0.3333333333333333,\"#9c179e\"],[0.4444444444444444,\"#bd3786\"],[0.5555555555555556,\"#d8576b\"],[0.6666666666666666,\"#ed7953\"],[0.7777777777777778,\"#fb9f3a\"],[0.8888888888888888,\"#fdca26\"],[1.0,\"#f0f921\"]],\"type\":\"surface\"}],\"table\":[{\"cells\":{\"fill\":{\"color\":\"#EBF0F8\"},\"line\":{\"color\":\"white\"}},\"header\":{\"fill\":{\"color\":\"#C8D4E3\"},\"line\":{\"color\":\"white\"}},\"type\":\"table\"}]},\"layout\":{\"annotationdefaults\":{\"arrowcolor\":\"#2a3f5f\",\"arrowhead\":0,\"arrowwidth\":1},\"autotypenumbers\":\"strict\",\"coloraxis\":{\"colorbar\":{\"outlinewidth\":0,\"ticks\":\"\"}},\"colorscale\":{\"diverging\":[[0,\"#8e0152\"],[0.1,\"#c51b7d\"],[0.2,\"#de77ae\"],[0.3,\"#f1b6da\"],[0.4,\"#fde0ef\"],[0.5,\"#f7f7f7\"],[0.6,\"#e6f5d0\"],[0.7,\"#b8e186\"],[0.8,\"#7fbc41\"],[0.9,\"#4d9221\"],[1,\"#276419\"]],\"sequential\":[[0.0,\"#0d0887\"],[0.1111111111111111,\"#46039f\"],[0.2222222222222222,\"#7201a8\"],[0.3333333333333333,\"#9c179e\"],[0.4444444444444444,\"#bd3786\"],[0.5555555555555556,\"#d8576b\"],[0.6666666666666666,\"#ed7953\"],[0.7777777777777778,\"#fb9f3a\"],[0.8888888888888888,\"#fdca26\"],[1.0,\"#f0f921\"]],\"sequentialminus\":[[0.0,\"#0d0887\"],[0.1111111111111111,\"#46039f\"],[0.2222222222222222,\"#7201a8\"],[0.3333333333333333,\"#9c179e\"],[0.4444444444444444,\"#bd3786\"],[0.5555555555555556,\"#d8576b\"],[0.6666666666666666,\"#ed7953\"],[0.7777777777777778,\"#fb9f3a\"],[0.8888888888888888,\"#fdca26\"],[1.0,\"#f0f921\"]]},\"colorway\":[\"#636efa\",\"#EF553B\",\"#00cc96\",\"#ab63fa\",\"#FFA15A\",\"#19d3f3\",\"#FF6692\",\"#B6E880\",\"#FF97FF\",\"#FECB52\"],\"font\":{\"color\":\"#2a3f5f\"},\"geo\":{\"bgcolor\":\"white\",\"lakecolor\":\"white\",\"landcolor\":\"#E5ECF6\",\"showlakes\":true,\"showland\":true,\"subunitcolor\":\"white\"},\"hoverlabel\":{\"align\":\"left\"},\"hovermode\":\"closest\",\"mapbox\":{\"style\":\"light\"},\"paper_bgcolor\":\"white\",\"plot_bgcolor\":\"#E5ECF6\",\"polar\":{\"angularaxis\":{\"gridcolor\":\"white\",\"linecolor\":\"white\",\"ticks\":\"\"},\"bgcolor\":\"#E5ECF6\",\"radialaxis\":{\"gridcolor\":\"white\",\"linecolor\":\"white\",\"ticks\":\"\"}},\"scene\":{\"xaxis\":{\"backgroundcolor\":\"#E5ECF6\",\"gridcolor\":\"white\",\"gridwidth\":2,\"linecolor\":\"white\",\"showbackground\":true,\"ticks\":\"\",\"zerolinecolor\":\"white\"},\"yaxis\":{\"backgroundcolor\":\"#E5ECF6\",\"gridcolor\":\"white\",\"gridwidth\":2,\"linecolor\":\"white\",\"showbackground\":true,\"ticks\":\"\",\"zerolinecolor\":\"white\"},\"zaxis\":{\"backgroundcolor\":\"#E5ECF6\",\"gridcolor\":\"white\",\"gridwidth\":2,\"linecolor\":\"white\",\"showbackground\":true,\"ticks\":\"\",\"zerolinecolor\":\"white\"}},\"shapedefaults\":{\"line\":{\"color\":\"#2a3f5f\"}},\"ternary\":{\"aaxis\":{\"gridcolor\":\"white\",\"linecolor\":\"white\",\"ticks\":\"\"},\"baxis\":{\"gridcolor\":\"white\",\"linecolor\":\"white\",\"ticks\":\"\"},\"bgcolor\":\"#E5ECF6\",\"caxis\":{\"gridcolor\":\"white\",\"linecolor\":\"white\",\"ticks\":\"\"}},\"title\":{\"x\":0.05},\"xaxis\":{\"automargin\":true,\"gridcolor\":\"white\",\"linecolor\":\"white\",\"ticks\":\"\",\"title\":{\"standoff\":15},\"zerolinecolor\":\"white\",\"zerolinewidth\":2},\"yaxis\":{\"automargin\":true,\"gridcolor\":\"white\",\"linecolor\":\"white\",\"ticks\":\"\",\"title\":{\"standoff\":15},\"zerolinecolor\":\"white\",\"zerolinewidth\":2}}},\"title\":{\"text\":\"Techs by State\"}},                        {\"responsive\": true}                    ).then(function(){\n",
       "                            \n",
       "var gd = document.getElementById('fcf2da09-729a-49c7-b2f6-7c8ea6d669d3');\n",
       "var x = new MutationObserver(function (mutations, observer) {{\n",
       "        var display = window.getComputedStyle(gd).display;\n",
       "        if (!display || display === 'none') {{\n",
       "            console.log([gd, 'removed!']);\n",
       "            Plotly.purge(gd);\n",
       "            observer.disconnect();\n",
       "        }}\n",
       "}});\n",
       "\n",
       "// Listen for the removal of the full notebook cells\n",
       "var notebookContainer = gd.closest('#notebook-container');\n",
       "if (notebookContainer) {{\n",
       "    x.observe(notebookContainer, {childList: true});\n",
       "}}\n",
       "\n",
       "// Listen for the clearing of the current output cell\n",
       "var outputEl = gd.closest('.output');\n",
       "if (outputEl) {{\n",
       "    x.observe(outputEl, {childList: true});\n",
       "}}\n",
       "\n",
       "                        })                };                });            </script>        </div>"
      ]
     },
     "metadata": {},
     "output_type": "display_data"
    }
   ],
   "source": [
    "fig = px.choropleth(states6_active_total,  \n",
    "                    locations='state',  \n",
    "                    color= 'state count',  color_continuous_scale='Inferno',\n",
    "                    hover_name='state count', \n",
    "                    locationmode = 'USA-states') \n",
    "fig.update_layout(\n",
    "    title_text = 'Techs by State', \n",
    "    geo_scope='usa',  \n",
    ")\n",
    "fig.show()"
   ]
  },
  {
   "cell_type": "code",
   "execution_count": 33,
   "metadata": {},
   "outputs": [
    {
     "data": {
      "text/plain": [
       "(1394, 12)"
      ]
     },
     "execution_count": 33,
     "metadata": {},
     "output_type": "execute_result"
    }
   ],
   "source": [
    "df6_active_total.shape"
   ]
  },
  {
   "cell_type": "markdown",
   "metadata": {},
   "source": [
    "# ALL ACTIVE TECHS 2021"
   ]
  },
  {
   "cell_type": "code",
   "execution_count": 34,
   "metadata": {
    "collapsed": true
   },
   "outputs": [
    {
     "data": {
      "application/vnd.plotly.v1+json": {
       "config": {
        "plotlyServerURL": "https://plot.ly"
       },
       "data": [
        {
         "coloraxis": "coloraxis",
         "geo": "geo",
         "hovertemplate": "<b>%{hovertext}</b><br><br>state=%{location}<br>state count=%{z}<extra></extra>",
         "hovertext": [
          "2",
          "32",
          "15",
          "51",
          "82",
          "8",
          "5",
          "1",
          "5",
          "116",
          "62",
          "3",
          "2",
          "3",
          "45",
          "23",
          "13",
          "21",
          "27",
          "7",
          "35",
          "3",
          "27",
          "7",
          "28",
          "19",
          "2",
          "43",
          "10",
          "3",
          "23",
          "8",
          "12",
          "4",
          "29",
          "23",
          "13",
          "27",
          "2",
          "34",
          "1",
          "28",
          "210",
          "13",
          "41",
          "4",
          "13",
          "6"
         ],
         "locationmode": "USA-states",
         "locations": [
          "AK",
          "AL",
          "AR",
          "AZ",
          "CA",
          "CO",
          "CT",
          "DC",
          "DE",
          "FL",
          "GA",
          "HI",
          "IA",
          "ID",
          "IL",
          "IN",
          "KS",
          "KY",
          "LA",
          "MA",
          "MD",
          "ME",
          "MI",
          "MN",
          "MO",
          "MS",
          "MT",
          "NC",
          "NE",
          "NH",
          "NJ",
          "NM",
          "NV",
          "NY",
          "OH",
          "OK",
          "OR",
          "PA",
          "RI",
          "SC",
          "SD",
          "TN",
          "TX",
          "UT",
          "VA",
          "WA",
          "WI",
          "WV"
         ],
         "name": "",
         "type": "choropleth",
         "z": [
          2,
          32,
          15,
          51,
          82,
          8,
          5,
          1,
          5,
          116,
          62,
          3,
          2,
          3,
          45,
          23,
          13,
          21,
          27,
          7,
          35,
          3,
          27,
          7,
          28,
          19,
          2,
          43,
          10,
          3,
          23,
          8,
          12,
          4,
          29,
          23,
          13,
          27,
          2,
          34,
          1,
          28,
          210,
          13,
          41,
          4,
          13,
          6
         ]
        }
       ],
       "layout": {
        "coloraxis": {
         "colorbar": {
          "title": {
           "text": "state count"
          }
         },
         "colorscale": [
          [
           0,
           "#440154"
          ],
          [
           0.1111111111111111,
           "#482878"
          ],
          [
           0.2222222222222222,
           "#3e4989"
          ],
          [
           0.3333333333333333,
           "#31688e"
          ],
          [
           0.4444444444444444,
           "#26828e"
          ],
          [
           0.5555555555555556,
           "#1f9e89"
          ],
          [
           0.6666666666666666,
           "#35b779"
          ],
          [
           0.7777777777777778,
           "#6ece58"
          ],
          [
           0.8888888888888888,
           "#b5de2b"
          ],
          [
           1,
           "#fde725"
          ]
         ]
        },
        "geo": {
         "center": {},
         "domain": {
          "x": [
           0,
           1
          ],
          "y": [
           0,
           1
          ]
         },
         "scope": "usa"
        },
        "legend": {
         "tracegroupgap": 0
        },
        "margin": {
         "t": 60
        },
        "template": {
         "data": {
          "bar": [
           {
            "error_x": {
             "color": "#2a3f5f"
            },
            "error_y": {
             "color": "#2a3f5f"
            },
            "marker": {
             "line": {
              "color": "#E5ECF6",
              "width": 0.5
             },
             "pattern": {
              "fillmode": "overlay",
              "size": 10,
              "solidity": 0.2
             }
            },
            "type": "bar"
           }
          ],
          "barpolar": [
           {
            "marker": {
             "line": {
              "color": "#E5ECF6",
              "width": 0.5
             },
             "pattern": {
              "fillmode": "overlay",
              "size": 10,
              "solidity": 0.2
             }
            },
            "type": "barpolar"
           }
          ],
          "carpet": [
           {
            "aaxis": {
             "endlinecolor": "#2a3f5f",
             "gridcolor": "white",
             "linecolor": "white",
             "minorgridcolor": "white",
             "startlinecolor": "#2a3f5f"
            },
            "baxis": {
             "endlinecolor": "#2a3f5f",
             "gridcolor": "white",
             "linecolor": "white",
             "minorgridcolor": "white",
             "startlinecolor": "#2a3f5f"
            },
            "type": "carpet"
           }
          ],
          "choropleth": [
           {
            "colorbar": {
             "outlinewidth": 0,
             "ticks": ""
            },
            "type": "choropleth"
           }
          ],
          "contour": [
           {
            "colorbar": {
             "outlinewidth": 0,
             "ticks": ""
            },
            "colorscale": [
             [
              0,
              "#0d0887"
             ],
             [
              0.1111111111111111,
              "#46039f"
             ],
             [
              0.2222222222222222,
              "#7201a8"
             ],
             [
              0.3333333333333333,
              "#9c179e"
             ],
             [
              0.4444444444444444,
              "#bd3786"
             ],
             [
              0.5555555555555556,
              "#d8576b"
             ],
             [
              0.6666666666666666,
              "#ed7953"
             ],
             [
              0.7777777777777778,
              "#fb9f3a"
             ],
             [
              0.8888888888888888,
              "#fdca26"
             ],
             [
              1,
              "#f0f921"
             ]
            ],
            "type": "contour"
           }
          ],
          "contourcarpet": [
           {
            "colorbar": {
             "outlinewidth": 0,
             "ticks": ""
            },
            "type": "contourcarpet"
           }
          ],
          "heatmap": [
           {
            "colorbar": {
             "outlinewidth": 0,
             "ticks": ""
            },
            "colorscale": [
             [
              0,
              "#0d0887"
             ],
             [
              0.1111111111111111,
              "#46039f"
             ],
             [
              0.2222222222222222,
              "#7201a8"
             ],
             [
              0.3333333333333333,
              "#9c179e"
             ],
             [
              0.4444444444444444,
              "#bd3786"
             ],
             [
              0.5555555555555556,
              "#d8576b"
             ],
             [
              0.6666666666666666,
              "#ed7953"
             ],
             [
              0.7777777777777778,
              "#fb9f3a"
             ],
             [
              0.8888888888888888,
              "#fdca26"
             ],
             [
              1,
              "#f0f921"
             ]
            ],
            "type": "heatmap"
           }
          ],
          "heatmapgl": [
           {
            "colorbar": {
             "outlinewidth": 0,
             "ticks": ""
            },
            "colorscale": [
             [
              0,
              "#0d0887"
             ],
             [
              0.1111111111111111,
              "#46039f"
             ],
             [
              0.2222222222222222,
              "#7201a8"
             ],
             [
              0.3333333333333333,
              "#9c179e"
             ],
             [
              0.4444444444444444,
              "#bd3786"
             ],
             [
              0.5555555555555556,
              "#d8576b"
             ],
             [
              0.6666666666666666,
              "#ed7953"
             ],
             [
              0.7777777777777778,
              "#fb9f3a"
             ],
             [
              0.8888888888888888,
              "#fdca26"
             ],
             [
              1,
              "#f0f921"
             ]
            ],
            "type": "heatmapgl"
           }
          ],
          "histogram": [
           {
            "marker": {
             "pattern": {
              "fillmode": "overlay",
              "size": 10,
              "solidity": 0.2
             }
            },
            "type": "histogram"
           }
          ],
          "histogram2d": [
           {
            "colorbar": {
             "outlinewidth": 0,
             "ticks": ""
            },
            "colorscale": [
             [
              0,
              "#0d0887"
             ],
             [
              0.1111111111111111,
              "#46039f"
             ],
             [
              0.2222222222222222,
              "#7201a8"
             ],
             [
              0.3333333333333333,
              "#9c179e"
             ],
             [
              0.4444444444444444,
              "#bd3786"
             ],
             [
              0.5555555555555556,
              "#d8576b"
             ],
             [
              0.6666666666666666,
              "#ed7953"
             ],
             [
              0.7777777777777778,
              "#fb9f3a"
             ],
             [
              0.8888888888888888,
              "#fdca26"
             ],
             [
              1,
              "#f0f921"
             ]
            ],
            "type": "histogram2d"
           }
          ],
          "histogram2dcontour": [
           {
            "colorbar": {
             "outlinewidth": 0,
             "ticks": ""
            },
            "colorscale": [
             [
              0,
              "#0d0887"
             ],
             [
              0.1111111111111111,
              "#46039f"
             ],
             [
              0.2222222222222222,
              "#7201a8"
             ],
             [
              0.3333333333333333,
              "#9c179e"
             ],
             [
              0.4444444444444444,
              "#bd3786"
             ],
             [
              0.5555555555555556,
              "#d8576b"
             ],
             [
              0.6666666666666666,
              "#ed7953"
             ],
             [
              0.7777777777777778,
              "#fb9f3a"
             ],
             [
              0.8888888888888888,
              "#fdca26"
             ],
             [
              1,
              "#f0f921"
             ]
            ],
            "type": "histogram2dcontour"
           }
          ],
          "mesh3d": [
           {
            "colorbar": {
             "outlinewidth": 0,
             "ticks": ""
            },
            "type": "mesh3d"
           }
          ],
          "parcoords": [
           {
            "line": {
             "colorbar": {
              "outlinewidth": 0,
              "ticks": ""
             }
            },
            "type": "parcoords"
           }
          ],
          "pie": [
           {
            "automargin": true,
            "type": "pie"
           }
          ],
          "scatter": [
           {
            "marker": {
             "colorbar": {
              "outlinewidth": 0,
              "ticks": ""
             }
            },
            "type": "scatter"
           }
          ],
          "scatter3d": [
           {
            "line": {
             "colorbar": {
              "outlinewidth": 0,
              "ticks": ""
             }
            },
            "marker": {
             "colorbar": {
              "outlinewidth": 0,
              "ticks": ""
             }
            },
            "type": "scatter3d"
           }
          ],
          "scattercarpet": [
           {
            "marker": {
             "colorbar": {
              "outlinewidth": 0,
              "ticks": ""
             }
            },
            "type": "scattercarpet"
           }
          ],
          "scattergeo": [
           {
            "marker": {
             "colorbar": {
              "outlinewidth": 0,
              "ticks": ""
             }
            },
            "type": "scattergeo"
           }
          ],
          "scattergl": [
           {
            "marker": {
             "colorbar": {
              "outlinewidth": 0,
              "ticks": ""
             }
            },
            "type": "scattergl"
           }
          ],
          "scattermapbox": [
           {
            "marker": {
             "colorbar": {
              "outlinewidth": 0,
              "ticks": ""
             }
            },
            "type": "scattermapbox"
           }
          ],
          "scatterpolar": [
           {
            "marker": {
             "colorbar": {
              "outlinewidth": 0,
              "ticks": ""
             }
            },
            "type": "scatterpolar"
           }
          ],
          "scatterpolargl": [
           {
            "marker": {
             "colorbar": {
              "outlinewidth": 0,
              "ticks": ""
             }
            },
            "type": "scatterpolargl"
           }
          ],
          "scatterternary": [
           {
            "marker": {
             "colorbar": {
              "outlinewidth": 0,
              "ticks": ""
             }
            },
            "type": "scatterternary"
           }
          ],
          "surface": [
           {
            "colorbar": {
             "outlinewidth": 0,
             "ticks": ""
            },
            "colorscale": [
             [
              0,
              "#0d0887"
             ],
             [
              0.1111111111111111,
              "#46039f"
             ],
             [
              0.2222222222222222,
              "#7201a8"
             ],
             [
              0.3333333333333333,
              "#9c179e"
             ],
             [
              0.4444444444444444,
              "#bd3786"
             ],
             [
              0.5555555555555556,
              "#d8576b"
             ],
             [
              0.6666666666666666,
              "#ed7953"
             ],
             [
              0.7777777777777778,
              "#fb9f3a"
             ],
             [
              0.8888888888888888,
              "#fdca26"
             ],
             [
              1,
              "#f0f921"
             ]
            ],
            "type": "surface"
           }
          ],
          "table": [
           {
            "cells": {
             "fill": {
              "color": "#EBF0F8"
             },
             "line": {
              "color": "white"
             }
            },
            "header": {
             "fill": {
              "color": "#C8D4E3"
             },
             "line": {
              "color": "white"
             }
            },
            "type": "table"
           }
          ]
         },
         "layout": {
          "annotationdefaults": {
           "arrowcolor": "#2a3f5f",
           "arrowhead": 0,
           "arrowwidth": 1
          },
          "autotypenumbers": "strict",
          "coloraxis": {
           "colorbar": {
            "outlinewidth": 0,
            "ticks": ""
           }
          },
          "colorscale": {
           "diverging": [
            [
             0,
             "#8e0152"
            ],
            [
             0.1,
             "#c51b7d"
            ],
            [
             0.2,
             "#de77ae"
            ],
            [
             0.3,
             "#f1b6da"
            ],
            [
             0.4,
             "#fde0ef"
            ],
            [
             0.5,
             "#f7f7f7"
            ],
            [
             0.6,
             "#e6f5d0"
            ],
            [
             0.7,
             "#b8e186"
            ],
            [
             0.8,
             "#7fbc41"
            ],
            [
             0.9,
             "#4d9221"
            ],
            [
             1,
             "#276419"
            ]
           ],
           "sequential": [
            [
             0,
             "#0d0887"
            ],
            [
             0.1111111111111111,
             "#46039f"
            ],
            [
             0.2222222222222222,
             "#7201a8"
            ],
            [
             0.3333333333333333,
             "#9c179e"
            ],
            [
             0.4444444444444444,
             "#bd3786"
            ],
            [
             0.5555555555555556,
             "#d8576b"
            ],
            [
             0.6666666666666666,
             "#ed7953"
            ],
            [
             0.7777777777777778,
             "#fb9f3a"
            ],
            [
             0.8888888888888888,
             "#fdca26"
            ],
            [
             1,
             "#f0f921"
            ]
           ],
           "sequentialminus": [
            [
             0,
             "#0d0887"
            ],
            [
             0.1111111111111111,
             "#46039f"
            ],
            [
             0.2222222222222222,
             "#7201a8"
            ],
            [
             0.3333333333333333,
             "#9c179e"
            ],
            [
             0.4444444444444444,
             "#bd3786"
            ],
            [
             0.5555555555555556,
             "#d8576b"
            ],
            [
             0.6666666666666666,
             "#ed7953"
            ],
            [
             0.7777777777777778,
             "#fb9f3a"
            ],
            [
             0.8888888888888888,
             "#fdca26"
            ],
            [
             1,
             "#f0f921"
            ]
           ]
          },
          "colorway": [
           "#636efa",
           "#EF553B",
           "#00cc96",
           "#ab63fa",
           "#FFA15A",
           "#19d3f3",
           "#FF6692",
           "#B6E880",
           "#FF97FF",
           "#FECB52"
          ],
          "font": {
           "color": "#2a3f5f"
          },
          "geo": {
           "bgcolor": "white",
           "lakecolor": "white",
           "landcolor": "#E5ECF6",
           "showlakes": true,
           "showland": true,
           "subunitcolor": "white"
          },
          "hoverlabel": {
           "align": "left"
          },
          "hovermode": "closest",
          "mapbox": {
           "style": "light"
          },
          "paper_bgcolor": "white",
          "plot_bgcolor": "#E5ECF6",
          "polar": {
           "angularaxis": {
            "gridcolor": "white",
            "linecolor": "white",
            "ticks": ""
           },
           "bgcolor": "#E5ECF6",
           "radialaxis": {
            "gridcolor": "white",
            "linecolor": "white",
            "ticks": ""
           }
          },
          "scene": {
           "xaxis": {
            "backgroundcolor": "#E5ECF6",
            "gridcolor": "white",
            "gridwidth": 2,
            "linecolor": "white",
            "showbackground": true,
            "ticks": "",
            "zerolinecolor": "white"
           },
           "yaxis": {
            "backgroundcolor": "#E5ECF6",
            "gridcolor": "white",
            "gridwidth": 2,
            "linecolor": "white",
            "showbackground": true,
            "ticks": "",
            "zerolinecolor": "white"
           },
           "zaxis": {
            "backgroundcolor": "#E5ECF6",
            "gridcolor": "white",
            "gridwidth": 2,
            "linecolor": "white",
            "showbackground": true,
            "ticks": "",
            "zerolinecolor": "white"
           }
          },
          "shapedefaults": {
           "line": {
            "color": "#2a3f5f"
           }
          },
          "ternary": {
           "aaxis": {
            "gridcolor": "white",
            "linecolor": "white",
            "ticks": ""
           },
           "baxis": {
            "gridcolor": "white",
            "linecolor": "white",
            "ticks": ""
           },
           "bgcolor": "#E5ECF6",
           "caxis": {
            "gridcolor": "white",
            "linecolor": "white",
            "ticks": ""
           }
          },
          "title": {
           "x": 0.05
          },
          "xaxis": {
           "automargin": true,
           "gridcolor": "white",
           "linecolor": "white",
           "ticks": "",
           "title": {
            "standoff": 15
           },
           "zerolinecolor": "white",
           "zerolinewidth": 2
          },
          "yaxis": {
           "automargin": true,
           "gridcolor": "white",
           "linecolor": "white",
           "ticks": "",
           "title": {
            "standoff": 15
           },
           "zerolinecolor": "white",
           "zerolinewidth": 2
          }
         }
        },
        "title": {
         "text": "Techs by State"
        }
       }
      },
      "text/html": [
       "<div>                            <div id=\"25580c66-bc7b-4e51-9da1-5783e1c04621\" class=\"plotly-graph-div\" style=\"height:525px; width:100%;\"></div>            <script type=\"text/javascript\">                require([\"plotly\"], function(Plotly) {                    window.PLOTLYENV=window.PLOTLYENV || {};                                    if (document.getElementById(\"25580c66-bc7b-4e51-9da1-5783e1c04621\")) {                    Plotly.newPlot(                        \"25580c66-bc7b-4e51-9da1-5783e1c04621\",                        [{\"coloraxis\":\"coloraxis\",\"geo\":\"geo\",\"hovertemplate\":\"<b>%{hovertext}</b><br><br>state=%{location}<br>state count=%{z}<extra></extra>\",\"hovertext\":[\"2\",\"32\",\"15\",\"51\",\"82\",\"8\",\"5\",\"1\",\"5\",\"116\",\"62\",\"3\",\"2\",\"3\",\"45\",\"23\",\"13\",\"21\",\"27\",\"7\",\"35\",\"3\",\"27\",\"7\",\"28\",\"19\",\"2\",\"43\",\"10\",\"3\",\"23\",\"8\",\"12\",\"4\",\"29\",\"23\",\"13\",\"27\",\"2\",\"34\",\"1\",\"28\",\"210\",\"13\",\"41\",\"4\",\"13\",\"6\"],\"locationmode\":\"USA-states\",\"locations\":[\"AK\",\"AL\",\"AR\",\"AZ\",\"CA\",\"CO\",\"CT\",\"DC\",\"DE\",\"FL\",\"GA\",\"HI\",\"IA\",\"ID\",\"IL\",\"IN\",\"KS\",\"KY\",\"LA\",\"MA\",\"MD\",\"ME\",\"MI\",\"MN\",\"MO\",\"MS\",\"MT\",\"NC\",\"NE\",\"NH\",\"NJ\",\"NM\",\"NV\",\"NY\",\"OH\",\"OK\",\"OR\",\"PA\",\"RI\",\"SC\",\"SD\",\"TN\",\"TX\",\"UT\",\"VA\",\"WA\",\"WI\",\"WV\"],\"name\":\"\",\"type\":\"choropleth\",\"z\":[2,32,15,51,82,8,5,1,5,116,62,3,2,3,45,23,13,21,27,7,35,3,27,7,28,19,2,43,10,3,23,8,12,4,29,23,13,27,2,34,1,28,210,13,41,4,13,6]}],                        {\"coloraxis\":{\"colorbar\":{\"title\":{\"text\":\"state count\"}},\"colorscale\":[[0.0,\"#440154\"],[0.1111111111111111,\"#482878\"],[0.2222222222222222,\"#3e4989\"],[0.3333333333333333,\"#31688e\"],[0.4444444444444444,\"#26828e\"],[0.5555555555555556,\"#1f9e89\"],[0.6666666666666666,\"#35b779\"],[0.7777777777777778,\"#6ece58\"],[0.8888888888888888,\"#b5de2b\"],[1.0,\"#fde725\"]]},\"geo\":{\"center\":{},\"domain\":{\"x\":[0.0,1.0],\"y\":[0.0,1.0]},\"scope\":\"usa\"},\"legend\":{\"tracegroupgap\":0},\"margin\":{\"t\":60},\"template\":{\"data\":{\"bar\":[{\"error_x\":{\"color\":\"#2a3f5f\"},\"error_y\":{\"color\":\"#2a3f5f\"},\"marker\":{\"line\":{\"color\":\"#E5ECF6\",\"width\":0.5},\"pattern\":{\"fillmode\":\"overlay\",\"size\":10,\"solidity\":0.2}},\"type\":\"bar\"}],\"barpolar\":[{\"marker\":{\"line\":{\"color\":\"#E5ECF6\",\"width\":0.5},\"pattern\":{\"fillmode\":\"overlay\",\"size\":10,\"solidity\":0.2}},\"type\":\"barpolar\"}],\"carpet\":[{\"aaxis\":{\"endlinecolor\":\"#2a3f5f\",\"gridcolor\":\"white\",\"linecolor\":\"white\",\"minorgridcolor\":\"white\",\"startlinecolor\":\"#2a3f5f\"},\"baxis\":{\"endlinecolor\":\"#2a3f5f\",\"gridcolor\":\"white\",\"linecolor\":\"white\",\"minorgridcolor\":\"white\",\"startlinecolor\":\"#2a3f5f\"},\"type\":\"carpet\"}],\"choropleth\":[{\"colorbar\":{\"outlinewidth\":0,\"ticks\":\"\"},\"type\":\"choropleth\"}],\"contour\":[{\"colorbar\":{\"outlinewidth\":0,\"ticks\":\"\"},\"colorscale\":[[0.0,\"#0d0887\"],[0.1111111111111111,\"#46039f\"],[0.2222222222222222,\"#7201a8\"],[0.3333333333333333,\"#9c179e\"],[0.4444444444444444,\"#bd3786\"],[0.5555555555555556,\"#d8576b\"],[0.6666666666666666,\"#ed7953\"],[0.7777777777777778,\"#fb9f3a\"],[0.8888888888888888,\"#fdca26\"],[1.0,\"#f0f921\"]],\"type\":\"contour\"}],\"contourcarpet\":[{\"colorbar\":{\"outlinewidth\":0,\"ticks\":\"\"},\"type\":\"contourcarpet\"}],\"heatmap\":[{\"colorbar\":{\"outlinewidth\":0,\"ticks\":\"\"},\"colorscale\":[[0.0,\"#0d0887\"],[0.1111111111111111,\"#46039f\"],[0.2222222222222222,\"#7201a8\"],[0.3333333333333333,\"#9c179e\"],[0.4444444444444444,\"#bd3786\"],[0.5555555555555556,\"#d8576b\"],[0.6666666666666666,\"#ed7953\"],[0.7777777777777778,\"#fb9f3a\"],[0.8888888888888888,\"#fdca26\"],[1.0,\"#f0f921\"]],\"type\":\"heatmap\"}],\"heatmapgl\":[{\"colorbar\":{\"outlinewidth\":0,\"ticks\":\"\"},\"colorscale\":[[0.0,\"#0d0887\"],[0.1111111111111111,\"#46039f\"],[0.2222222222222222,\"#7201a8\"],[0.3333333333333333,\"#9c179e\"],[0.4444444444444444,\"#bd3786\"],[0.5555555555555556,\"#d8576b\"],[0.6666666666666666,\"#ed7953\"],[0.7777777777777778,\"#fb9f3a\"],[0.8888888888888888,\"#fdca26\"],[1.0,\"#f0f921\"]],\"type\":\"heatmapgl\"}],\"histogram\":[{\"marker\":{\"pattern\":{\"fillmode\":\"overlay\",\"size\":10,\"solidity\":0.2}},\"type\":\"histogram\"}],\"histogram2d\":[{\"colorbar\":{\"outlinewidth\":0,\"ticks\":\"\"},\"colorscale\":[[0.0,\"#0d0887\"],[0.1111111111111111,\"#46039f\"],[0.2222222222222222,\"#7201a8\"],[0.3333333333333333,\"#9c179e\"],[0.4444444444444444,\"#bd3786\"],[0.5555555555555556,\"#d8576b\"],[0.6666666666666666,\"#ed7953\"],[0.7777777777777778,\"#fb9f3a\"],[0.8888888888888888,\"#fdca26\"],[1.0,\"#f0f921\"]],\"type\":\"histogram2d\"}],\"histogram2dcontour\":[{\"colorbar\":{\"outlinewidth\":0,\"ticks\":\"\"},\"colorscale\":[[0.0,\"#0d0887\"],[0.1111111111111111,\"#46039f\"],[0.2222222222222222,\"#7201a8\"],[0.3333333333333333,\"#9c179e\"],[0.4444444444444444,\"#bd3786\"],[0.5555555555555556,\"#d8576b\"],[0.6666666666666666,\"#ed7953\"],[0.7777777777777778,\"#fb9f3a\"],[0.8888888888888888,\"#fdca26\"],[1.0,\"#f0f921\"]],\"type\":\"histogram2dcontour\"}],\"mesh3d\":[{\"colorbar\":{\"outlinewidth\":0,\"ticks\":\"\"},\"type\":\"mesh3d\"}],\"parcoords\":[{\"line\":{\"colorbar\":{\"outlinewidth\":0,\"ticks\":\"\"}},\"type\":\"parcoords\"}],\"pie\":[{\"automargin\":true,\"type\":\"pie\"}],\"scatter\":[{\"marker\":{\"colorbar\":{\"outlinewidth\":0,\"ticks\":\"\"}},\"type\":\"scatter\"}],\"scatter3d\":[{\"line\":{\"colorbar\":{\"outlinewidth\":0,\"ticks\":\"\"}},\"marker\":{\"colorbar\":{\"outlinewidth\":0,\"ticks\":\"\"}},\"type\":\"scatter3d\"}],\"scattercarpet\":[{\"marker\":{\"colorbar\":{\"outlinewidth\":0,\"ticks\":\"\"}},\"type\":\"scattercarpet\"}],\"scattergeo\":[{\"marker\":{\"colorbar\":{\"outlinewidth\":0,\"ticks\":\"\"}},\"type\":\"scattergeo\"}],\"scattergl\":[{\"marker\":{\"colorbar\":{\"outlinewidth\":0,\"ticks\":\"\"}},\"type\":\"scattergl\"}],\"scattermapbox\":[{\"marker\":{\"colorbar\":{\"outlinewidth\":0,\"ticks\":\"\"}},\"type\":\"scattermapbox\"}],\"scatterpolar\":[{\"marker\":{\"colorbar\":{\"outlinewidth\":0,\"ticks\":\"\"}},\"type\":\"scatterpolar\"}],\"scatterpolargl\":[{\"marker\":{\"colorbar\":{\"outlinewidth\":0,\"ticks\":\"\"}},\"type\":\"scatterpolargl\"}],\"scatterternary\":[{\"marker\":{\"colorbar\":{\"outlinewidth\":0,\"ticks\":\"\"}},\"type\":\"scatterternary\"}],\"surface\":[{\"colorbar\":{\"outlinewidth\":0,\"ticks\":\"\"},\"colorscale\":[[0.0,\"#0d0887\"],[0.1111111111111111,\"#46039f\"],[0.2222222222222222,\"#7201a8\"],[0.3333333333333333,\"#9c179e\"],[0.4444444444444444,\"#bd3786\"],[0.5555555555555556,\"#d8576b\"],[0.6666666666666666,\"#ed7953\"],[0.7777777777777778,\"#fb9f3a\"],[0.8888888888888888,\"#fdca26\"],[1.0,\"#f0f921\"]],\"type\":\"surface\"}],\"table\":[{\"cells\":{\"fill\":{\"color\":\"#EBF0F8\"},\"line\":{\"color\":\"white\"}},\"header\":{\"fill\":{\"color\":\"#C8D4E3\"},\"line\":{\"color\":\"white\"}},\"type\":\"table\"}]},\"layout\":{\"annotationdefaults\":{\"arrowcolor\":\"#2a3f5f\",\"arrowhead\":0,\"arrowwidth\":1},\"autotypenumbers\":\"strict\",\"coloraxis\":{\"colorbar\":{\"outlinewidth\":0,\"ticks\":\"\"}},\"colorscale\":{\"diverging\":[[0,\"#8e0152\"],[0.1,\"#c51b7d\"],[0.2,\"#de77ae\"],[0.3,\"#f1b6da\"],[0.4,\"#fde0ef\"],[0.5,\"#f7f7f7\"],[0.6,\"#e6f5d0\"],[0.7,\"#b8e186\"],[0.8,\"#7fbc41\"],[0.9,\"#4d9221\"],[1,\"#276419\"]],\"sequential\":[[0.0,\"#0d0887\"],[0.1111111111111111,\"#46039f\"],[0.2222222222222222,\"#7201a8\"],[0.3333333333333333,\"#9c179e\"],[0.4444444444444444,\"#bd3786\"],[0.5555555555555556,\"#d8576b\"],[0.6666666666666666,\"#ed7953\"],[0.7777777777777778,\"#fb9f3a\"],[0.8888888888888888,\"#fdca26\"],[1.0,\"#f0f921\"]],\"sequentialminus\":[[0.0,\"#0d0887\"],[0.1111111111111111,\"#46039f\"],[0.2222222222222222,\"#7201a8\"],[0.3333333333333333,\"#9c179e\"],[0.4444444444444444,\"#bd3786\"],[0.5555555555555556,\"#d8576b\"],[0.6666666666666666,\"#ed7953\"],[0.7777777777777778,\"#fb9f3a\"],[0.8888888888888888,\"#fdca26\"],[1.0,\"#f0f921\"]]},\"colorway\":[\"#636efa\",\"#EF553B\",\"#00cc96\",\"#ab63fa\",\"#FFA15A\",\"#19d3f3\",\"#FF6692\",\"#B6E880\",\"#FF97FF\",\"#FECB52\"],\"font\":{\"color\":\"#2a3f5f\"},\"geo\":{\"bgcolor\":\"white\",\"lakecolor\":\"white\",\"landcolor\":\"#E5ECF6\",\"showlakes\":true,\"showland\":true,\"subunitcolor\":\"white\"},\"hoverlabel\":{\"align\":\"left\"},\"hovermode\":\"closest\",\"mapbox\":{\"style\":\"light\"},\"paper_bgcolor\":\"white\",\"plot_bgcolor\":\"#E5ECF6\",\"polar\":{\"angularaxis\":{\"gridcolor\":\"white\",\"linecolor\":\"white\",\"ticks\":\"\"},\"bgcolor\":\"#E5ECF6\",\"radialaxis\":{\"gridcolor\":\"white\",\"linecolor\":\"white\",\"ticks\":\"\"}},\"scene\":{\"xaxis\":{\"backgroundcolor\":\"#E5ECF6\",\"gridcolor\":\"white\",\"gridwidth\":2,\"linecolor\":\"white\",\"showbackground\":true,\"ticks\":\"\",\"zerolinecolor\":\"white\"},\"yaxis\":{\"backgroundcolor\":\"#E5ECF6\",\"gridcolor\":\"white\",\"gridwidth\":2,\"linecolor\":\"white\",\"showbackground\":true,\"ticks\":\"\",\"zerolinecolor\":\"white\"},\"zaxis\":{\"backgroundcolor\":\"#E5ECF6\",\"gridcolor\":\"white\",\"gridwidth\":2,\"linecolor\":\"white\",\"showbackground\":true,\"ticks\":\"\",\"zerolinecolor\":\"white\"}},\"shapedefaults\":{\"line\":{\"color\":\"#2a3f5f\"}},\"ternary\":{\"aaxis\":{\"gridcolor\":\"white\",\"linecolor\":\"white\",\"ticks\":\"\"},\"baxis\":{\"gridcolor\":\"white\",\"linecolor\":\"white\",\"ticks\":\"\"},\"bgcolor\":\"#E5ECF6\",\"caxis\":{\"gridcolor\":\"white\",\"linecolor\":\"white\",\"ticks\":\"\"}},\"title\":{\"x\":0.05},\"xaxis\":{\"automargin\":true,\"gridcolor\":\"white\",\"linecolor\":\"white\",\"ticks\":\"\",\"title\":{\"standoff\":15},\"zerolinecolor\":\"white\",\"zerolinewidth\":2},\"yaxis\":{\"automargin\":true,\"gridcolor\":\"white\",\"linecolor\":\"white\",\"ticks\":\"\",\"title\":{\"standoff\":15},\"zerolinecolor\":\"white\",\"zerolinewidth\":2}}},\"title\":{\"text\":\"Techs by State\"}},                        {\"responsive\": true}                    ).then(function(){\n",
       "                            \n",
       "var gd = document.getElementById('25580c66-bc7b-4e51-9da1-5783e1c04621');\n",
       "var x = new MutationObserver(function (mutations, observer) {{\n",
       "        var display = window.getComputedStyle(gd).display;\n",
       "        if (!display || display === 'none') {{\n",
       "            console.log([gd, 'removed!']);\n",
       "            Plotly.purge(gd);\n",
       "            observer.disconnect();\n",
       "        }}\n",
       "}});\n",
       "\n",
       "// Listen for the removal of the full notebook cells\n",
       "var notebookContainer = gd.closest('#notebook-container');\n",
       "if (notebookContainer) {{\n",
       "    x.observe(notebookContainer, {childList: true});\n",
       "}}\n",
       "\n",
       "// Listen for the clearing of the current output cell\n",
       "var outputEl = gd.closest('.output');\n",
       "if (outputEl) {{\n",
       "    x.observe(outputEl, {childList: true});\n",
       "}}\n",
       "\n",
       "                        })                };                });            </script>        </div>"
      ]
     },
     "metadata": {},
     "output_type": "display_data"
    }
   ],
   "source": [
    "df6_active = df_six[df_six['status']=='Active']\n",
    "\n",
    "states6_active = df6_active.groupby(['state']).size().reset_index(name= 'state count')\n",
    "\n",
    "fig = px.choropleth(states6_active,  \n",
    "                    locations='state',  \n",
    "                    color= 'state count',  color_continuous_scale='Viridis',\n",
    "                    hover_name='state count', \n",
    "                    locationmode = 'USA-states') \n",
    "fig.update_layout(\n",
    "    title_text = 'Techs by State', \n",
    "    geo_scope='usa',  \n",
    ")\n",
    "fig.show()"
   ]
  }
 ],
 "metadata": {
  "kernelspec": {
   "display_name": "Python 3",
   "language": "python",
   "name": "python3"
  },
  "language_info": {
   "codemirror_mode": {
    "name": "ipython",
    "version": 3
   },
   "file_extension": ".py",
   "mimetype": "text/x-python",
   "name": "python",
   "nbconvert_exporter": "python",
   "pygments_lexer": "ipython3",
   "version": "3.8.5"
  }
 },
 "nbformat": 4,
 "nbformat_minor": 4
}

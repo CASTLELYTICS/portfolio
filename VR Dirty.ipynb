{
 "cells": [
  {
   "cell_type": "code",
   "execution_count": 37,
   "metadata": {},
   "outputs": [],
   "source": [
    "import pandas as pd\n",
    "import numpy as np\n",
    "import plotly.express as px\n",
    "from urllib.request import urlopen\n",
    "import json\n",
    "import matplotlib.pyplot as plt"
   ]
  },
  {
   "cell_type": "code",
   "execution_count": 38,
   "metadata": {},
   "outputs": [],
   "source": [
    "df1 = pd.read_csv('vendor_options.csv')\n",
    "df2 = pd.read_csv('vendor_trades.csv')\n",
    "df3 = pd.read_csv('Vendor Filter.csv')"
   ]
  },
  {
   "cell_type": "code",
   "execution_count": 39,
   "metadata": {},
   "outputs": [],
   "source": [
    "df1['online'] = df1['online'].astype(\"string\")"
   ]
  },
  {
   "cell_type": "code",
   "execution_count": 4,
   "metadata": {},
   "outputs": [],
   "source": [
    "df1.columns = ['category', 'Contract Item', 'v1', 'v2', 'v3', 'v4', 'v5', 'v6', 'v7', 'v8', 'v9',\n",
    "       'v10', 'v11', 'v12', 'v13', 'v14', 'v15']"
   ]
  },
  {
   "cell_type": "code",
   "execution_count": 5,
   "metadata": {},
   "outputs": [],
   "source": [
    "df1 = df1[['category', 'Contract Item']]"
   ]
  },
  {
   "cell_type": "code",
   "execution_count": 6,
   "metadata": {},
   "outputs": [
    {
     "data": {
      "text/plain": [
       "Index(['id', 'city', 'state', 'zip', 'date', 'category', 'status',\n",
       "       'coverage_zones', 'application_received', 'preferred_vendor',\n",
       "       'portal_status'],\n",
       "      dtype='object')"
      ]
     },
     "execution_count": 6,
     "metadata": {},
     "output_type": "execute_result"
    }
   ],
   "source": [
    "df3.columns"
   ]
  },
  {
   "cell_type": "code",
   "execution_count": 7,
   "metadata": {},
   "outputs": [],
   "source": [
    "df3.columns = ['vendor', 'city', 'state', 'zip', 'date', 'category', 'status',\n",
    "       'coverage_zones', 'application_received', 'preferred_vendor',\n",
    "       'portal_status']"
   ]
  },
  {
   "cell_type": "code",
   "execution_count": 8,
   "metadata": {},
   "outputs": [
    {
     "data": {
      "text/html": [
       "<div>\n",
       "<style scoped>\n",
       "    .dataframe tbody tr th:only-of-type {\n",
       "        vertical-align: middle;\n",
       "    }\n",
       "\n",
       "    .dataframe tbody tr th {\n",
       "        vertical-align: top;\n",
       "    }\n",
       "\n",
       "    .dataframe thead th {\n",
       "        text-align: right;\n",
       "    }\n",
       "</style>\n",
       "<table border=\"1\" class=\"dataframe\">\n",
       "  <thead>\n",
       "    <tr style=\"text-align: right;\">\n",
       "      <th></th>\n",
       "      <th>id</th>\n",
       "      <th>category</th>\n",
       "      <th>options</th>\n",
       "      <th>vendor</th>\n",
       "    </tr>\n",
       "  </thead>\n",
       "  <tbody>\n",
       "    <tr>\n",
       "      <th>0</th>\n",
       "      <td>9</td>\n",
       "      <td>2</td>\n",
       "      <td>v9,v10</td>\n",
       "      <td>5783925</td>\n",
       "    </tr>\n",
       "    <tr>\n",
       "      <th>1</th>\n",
       "      <td>13</td>\n",
       "      <td>2</td>\n",
       "      <td>v1,v3,v4,v5,v8,v9,v10</td>\n",
       "      <td>5783911</td>\n",
       "    </tr>\n",
       "    <tr>\n",
       "      <th>2</th>\n",
       "      <td>14</td>\n",
       "      <td>3</td>\n",
       "      <td>v1,v2,v3,v4,v5,v6</td>\n",
       "      <td>5783911</td>\n",
       "    </tr>\n",
       "    <tr>\n",
       "      <th>3</th>\n",
       "      <td>34</td>\n",
       "      <td>4</td>\n",
       "      <td>v1,v2</td>\n",
       "      <td>5783914</td>\n",
       "    </tr>\n",
       "    <tr>\n",
       "      <th>4</th>\n",
       "      <td>38</td>\n",
       "      <td>1</td>\n",
       "      <td>v1,v2,v3</td>\n",
       "      <td>5783955</td>\n",
       "    </tr>\n",
       "  </tbody>\n",
       "</table>\n",
       "</div>"
      ],
      "text/plain": [
       "   id  category                options   vendor\n",
       "0   9         2                 v9,v10  5783925\n",
       "1  13         2  v1,v3,v4,v5,v8,v9,v10  5783911\n",
       "2  14         3      v1,v2,v3,v4,v5,v6  5783911\n",
       "3  34         4                  v1,v2  5783914\n",
       "4  38         1               v1,v2,v3  5783955"
      ]
     },
     "execution_count": 8,
     "metadata": {},
     "output_type": "execute_result"
    }
   ],
   "source": [
    "df2.head()"
   ]
  },
  {
   "cell_type": "code",
   "execution_count": 9,
   "metadata": {},
   "outputs": [],
   "source": [
    "df4 = pd.merge(df2, df1, how = 'left', on = 'category')"
   ]
  },
  {
   "cell_type": "code",
   "execution_count": 10,
   "metadata": {},
   "outputs": [
    {
     "data": {
      "text/html": [
       "<div>\n",
       "<style scoped>\n",
       "    .dataframe tbody tr th:only-of-type {\n",
       "        vertical-align: middle;\n",
       "    }\n",
       "\n",
       "    .dataframe tbody tr th {\n",
       "        vertical-align: top;\n",
       "    }\n",
       "\n",
       "    .dataframe thead th {\n",
       "        text-align: right;\n",
       "    }\n",
       "</style>\n",
       "<table border=\"1\" class=\"dataframe\">\n",
       "  <thead>\n",
       "    <tr style=\"text-align: right;\">\n",
       "      <th></th>\n",
       "      <th>id</th>\n",
       "      <th>category</th>\n",
       "      <th>options</th>\n",
       "      <th>vendor</th>\n",
       "      <th>Contract Item</th>\n",
       "    </tr>\n",
       "  </thead>\n",
       "  <tbody>\n",
       "    <tr>\n",
       "      <th>0</th>\n",
       "      <td>9</td>\n",
       "      <td>2</td>\n",
       "      <td>v9,v10</td>\n",
       "      <td>5783925</td>\n",
       "      <td>Appliances</td>\n",
       "    </tr>\n",
       "    <tr>\n",
       "      <th>1</th>\n",
       "      <td>13</td>\n",
       "      <td>2</td>\n",
       "      <td>v1,v3,v4,v5,v8,v9,v10</td>\n",
       "      <td>5783911</td>\n",
       "      <td>Appliances</td>\n",
       "    </tr>\n",
       "    <tr>\n",
       "      <th>2</th>\n",
       "      <td>14</td>\n",
       "      <td>3</td>\n",
       "      <td>v1,v2,v3,v4,v5,v6</td>\n",
       "      <td>5783911</td>\n",
       "      <td>Plumbing</td>\n",
       "    </tr>\n",
       "    <tr>\n",
       "      <th>3</th>\n",
       "      <td>34</td>\n",
       "      <td>4</td>\n",
       "      <td>v1,v2</td>\n",
       "      <td>5783914</td>\n",
       "      <td>Electrical</td>\n",
       "    </tr>\n",
       "    <tr>\n",
       "      <th>4</th>\n",
       "      <td>38</td>\n",
       "      <td>1</td>\n",
       "      <td>v1,v2,v3</td>\n",
       "      <td>5783955</td>\n",
       "      <td>HVAC</td>\n",
       "    </tr>\n",
       "  </tbody>\n",
       "</table>\n",
       "</div>"
      ],
      "text/plain": [
       "   id  category                options   vendor Contract Item\n",
       "0   9         2                 v9,v10  5783925    Appliances\n",
       "1  13         2  v1,v3,v4,v5,v8,v9,v10  5783911    Appliances\n",
       "2  14         3      v1,v2,v3,v4,v5,v6  5783911      Plumbing\n",
       "3  34         4                  v1,v2  5783914    Electrical\n",
       "4  38         1               v1,v2,v3  5783955          HVAC"
      ]
     },
     "execution_count": 10,
     "metadata": {},
     "output_type": "execute_result"
    }
   ],
   "source": [
    "df4.head()"
   ]
  },
  {
   "cell_type": "code",
   "execution_count": 11,
   "metadata": {},
   "outputs": [],
   "source": [
    "df4 = df4[['vendor', 'Contract Item']]"
   ]
  },
  {
   "cell_type": "code",
   "execution_count": 12,
   "metadata": {},
   "outputs": [],
   "source": [
    "df4 = df4.groupby(['vendor'])['Contract Item'].apply(', '.join).reset_index()"
   ]
  },
  {
   "cell_type": "code",
   "execution_count": 13,
   "metadata": {},
   "outputs": [],
   "source": [
    "df3[['vendor']] = df3[['vendor']].apply(pd.to_numeric, errors='coerce')"
   ]
  },
  {
   "cell_type": "code",
   "execution_count": 14,
   "metadata": {},
   "outputs": [],
   "source": [
    "df_merge = pd.merge(df3, df4, how = 'left', on = 'vendor')"
   ]
  },
  {
   "cell_type": "code",
   "execution_count": 15,
   "metadata": {},
   "outputs": [],
   "source": [
    "df_merge= df_merge[df_merge['city']!='test']"
   ]
  },
  {
   "cell_type": "code",
   "execution_count": 16,
   "metadata": {},
   "outputs": [],
   "source": [
    "df_merge = df_merge[['vendor', 'city', 'state', 'zip', 'date', 'Contract Item', 'status',\n",
    "       'coverage_zones', 'application_received', 'preferred_vendor',\n",
    "       'portal_status',]]"
   ]
  },
  {
   "cell_type": "code",
   "execution_count": 17,
   "metadata": {},
   "outputs": [],
   "source": [
    "df_merge = df_merge[df_merge['vendor'].isnull() == False]"
   ]
  },
  {
   "cell_type": "code",
   "execution_count": 18,
   "metadata": {},
   "outputs": [],
   "source": [
    "df_merge = df_merge[df_merge['Contract Item'].isnull()== False]"
   ]
  },
  {
   "cell_type": "code",
   "execution_count": 19,
   "metadata": {},
   "outputs": [],
   "source": [
    "df_merge = df_merge[df_merge['state'].isnull()== False]"
   ]
  },
  {
   "cell_type": "code",
   "execution_count": 20,
   "metadata": {},
   "outputs": [],
   "source": [
    "df_merge = df_merge[df_merge['zip'].isnull()==False]"
   ]
  },
  {
   "cell_type": "code",
   "execution_count": 21,
   "metadata": {},
   "outputs": [],
   "source": [
    "df_merge[['date']] = df_merge[['date']].apply(pd.to_datetime)"
   ]
  },
  {
   "cell_type": "code",
   "execution_count": 22,
   "metadata": {},
   "outputs": [],
   "source": [
    "df_merge[['date']] = df_merge[['date']].apply(pd.to_datetime)"
   ]
  },
  {
   "cell_type": "code",
   "execution_count": 23,
   "metadata": {},
   "outputs": [],
   "source": [
    "df_merge['state'] = df_merge['state'].replace(['Texas'],'TX')\n",
    "df_merge['state'] = df_merge['state'].replace(['Al'],'AL')\n",
    "df_merge['state'] = df_merge['state'].replace(['la'],'LA')"
   ]
  },
  {
   "cell_type": "code",
   "execution_count": 24,
   "metadata": {},
   "outputs": [
    {
     "data": {
      "text/html": [
       "<div>\n",
       "<style scoped>\n",
       "    .dataframe tbody tr th:only-of-type {\n",
       "        vertical-align: middle;\n",
       "    }\n",
       "\n",
       "    .dataframe tbody tr th {\n",
       "        vertical-align: top;\n",
       "    }\n",
       "\n",
       "    .dataframe thead th {\n",
       "        text-align: right;\n",
       "    }\n",
       "</style>\n",
       "<table border=\"1\" class=\"dataframe\">\n",
       "  <thead>\n",
       "    <tr style=\"text-align: right;\">\n",
       "      <th></th>\n",
       "      <th>vendor</th>\n",
       "      <th>city</th>\n",
       "      <th>state</th>\n",
       "      <th>zip</th>\n",
       "      <th>date</th>\n",
       "      <th>Contract Item</th>\n",
       "      <th>status</th>\n",
       "      <th>coverage_zones</th>\n",
       "      <th>application_received</th>\n",
       "      <th>preferred_vendor</th>\n",
       "      <th>portal_status</th>\n",
       "    </tr>\n",
       "  </thead>\n",
       "  <tbody>\n",
       "    <tr>\n",
       "      <th>1</th>\n",
       "      <td>5783913.0</td>\n",
       "      <td>Huntsville</td>\n",
       "      <td>AL</td>\n",
       "      <td>35810</td>\n",
       "      <td>2016-12-14 04:04:00</td>\n",
       "      <td>Appliances, Garbage Disposal, HVAC</td>\n",
       "      <td>Inactive</td>\n",
       "      <td>35810 \\r\\n\\r\\nGOES TO BIRMINGHAM</td>\n",
       "      <td>No</td>\n",
       "      <td>No</td>\n",
       "      <td>Inactive</td>\n",
       "    </tr>\n",
       "    <tr>\n",
       "      <th>2</th>\n",
       "      <td>5783914.0</td>\n",
       "      <td>Glendale</td>\n",
       "      <td>AZ</td>\n",
       "      <td>85318</td>\n",
       "      <td>2016-12-14 19:09:00</td>\n",
       "      <td>Electrical, HVAC</td>\n",
       "      <td>Inactive</td>\n",
       "      <td>85318</td>\n",
       "      <td>No</td>\n",
       "      <td>No</td>\n",
       "      <td>Active</td>\n",
       "    </tr>\n",
       "    <tr>\n",
       "      <th>3</th>\n",
       "      <td>5783915.0</td>\n",
       "      <td>Mt Pleasent</td>\n",
       "      <td>PA</td>\n",
       "      <td>15666</td>\n",
       "      <td>2016-12-14 20:35:00</td>\n",
       "      <td>HVAC, Appliances, Plumbing, Electrical, Garage...</td>\n",
       "      <td>Inactive</td>\n",
       "      <td>15666</td>\n",
       "      <td>No</td>\n",
       "      <td>No</td>\n",
       "      <td>Active</td>\n",
       "    </tr>\n",
       "    <tr>\n",
       "      <th>4</th>\n",
       "      <td>5783916.0</td>\n",
       "      <td>Melbourne</td>\n",
       "      <td>FL</td>\n",
       "      <td>32935</td>\n",
       "      <td>2016-12-14 21:08:00</td>\n",
       "      <td>Appliances, Garbage Disposal, HVAC</td>\n",
       "      <td>Inactive</td>\n",
       "      <td>32935</td>\n",
       "      <td>No</td>\n",
       "      <td>No</td>\n",
       "      <td>Active</td>\n",
       "    </tr>\n",
       "    <tr>\n",
       "      <th>5</th>\n",
       "      <td>5783917.0</td>\n",
       "      <td>Virginia Beach</td>\n",
       "      <td>VA</td>\n",
       "      <td>23452</td>\n",
       "      <td>2016-12-14 21:22:00</td>\n",
       "      <td>HVAC, Appliances, Garbage Disposal</td>\n",
       "      <td>Inactive</td>\n",
       "      <td>23452</td>\n",
       "      <td>No</td>\n",
       "      <td>No</td>\n",
       "      <td>Inactive</td>\n",
       "    </tr>\n",
       "  </tbody>\n",
       "</table>\n",
       "</div>"
      ],
      "text/plain": [
       "      vendor            city state    zip                date  \\\n",
       "1  5783913.0      Huntsville    AL  35810 2016-12-14 04:04:00   \n",
       "2  5783914.0        Glendale    AZ  85318 2016-12-14 19:09:00   \n",
       "3  5783915.0     Mt Pleasent    PA  15666 2016-12-14 20:35:00   \n",
       "4  5783916.0       Melbourne    FL  32935 2016-12-14 21:08:00   \n",
       "5  5783917.0  Virginia Beach    VA  23452 2016-12-14 21:22:00   \n",
       "\n",
       "                                       Contract Item    status  \\\n",
       "1                 Appliances, Garbage Disposal, HVAC  Inactive   \n",
       "2                                   Electrical, HVAC  Inactive   \n",
       "3  HVAC, Appliances, Plumbing, Electrical, Garage...  Inactive   \n",
       "4                 Appliances, Garbage Disposal, HVAC  Inactive   \n",
       "5                 HVAC, Appliances, Garbage Disposal  Inactive   \n",
       "\n",
       "                     coverage_zones application_received preferred_vendor  \\\n",
       "1  35810 \\r\\n\\r\\nGOES TO BIRMINGHAM                   No               No   \n",
       "2                             85318                   No               No   \n",
       "3                             15666                   No               No   \n",
       "4                             32935                   No               No   \n",
       "5                             23452                   No               No   \n",
       "\n",
       "  portal_status  \n",
       "1      Inactive  \n",
       "2        Active  \n",
       "3        Active  \n",
       "4        Active  \n",
       "5      Inactive  "
      ]
     },
     "execution_count": 24,
     "metadata": {},
     "output_type": "execute_result"
    }
   ],
   "source": [
    "df_merge.head()"
   ]
  }
 ],
 "metadata": {
  "kernelspec": {
   "display_name": "Python 3",
   "language": "python",
   "name": "python3"
  },
  "language_info": {
   "codemirror_mode": {
    "name": "ipython",
    "version": 3
   },
   "file_extension": ".py",
   "mimetype": "text/x-python",
   "name": "python",
   "nbconvert_exporter": "python",
   "pygments_lexer": "ipython3",
   "version": "3.8.5"
  }
 },
 "nbformat": 4,
 "nbformat_minor": 4
}
